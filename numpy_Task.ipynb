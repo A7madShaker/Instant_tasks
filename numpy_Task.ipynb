{
  "nbformat": 4,
  "nbformat_minor": 0,
  "metadata": {
    "colab": {
      "provenance": []
    },
    "kernelspec": {
      "name": "python3",
      "display_name": "Python 3"
    },
    "language_info": {
      "name": "python"
    }
  },
  "cells": [
    {
      "cell_type": "markdown",
      "source": [
        "**Ahmed mohamed shaker task**"
      ],
      "metadata": {
        "id": "mNgm8-UWw0zd"
      }
    },
    {
      "cell_type": "code",
      "execution_count": 20,
      "metadata": {
        "id": "f8ik_s_XTIAI"
      },
      "outputs": [],
      "source": [
        "import numpy as np"
      ]
    },
    {
      "cell_type": "markdown",
      "source": [
        "3. Test None are Zero\n"
      ],
      "metadata": {
        "id": "Q1xtIEk7U-oW"
      }
    },
    {
      "cell_type": "code",
      "source": [
        "arr = np.array([1, 5, 6, 9, 0, 8])\n",
        "\n",
        "print(\"Contains zero:\", 0 in arr)\n",
        "print( arr.dtype,arr)\n"
      ],
      "metadata": {
        "colab": {
          "base_uri": "https://localhost:8080/"
        },
        "id": "Z-68n3MfTQ7I",
        "outputId": "91c37f4e-ccd5-4275-aca9-bbe375a454e2"
      },
      "execution_count": 21,
      "outputs": [
        {
          "output_type": "stream",
          "name": "stdout",
          "text": [
            "Contains zero: True\n",
            "int64 [1 5 6 9 0 8]\n"
          ]
        }
      ]
    },
    {
      "cell_type": "markdown",
      "source": [
        "4. Test Any Non-Zero\n",
        "\n"
      ],
      "metadata": {
        "id": "LkYWij_LVRuG"
      }
    },
    {
      "cell_type": "code",
      "source": [
        "arr = np.array([1, 5, 6, 9, 8])\n",
        "\n",
        "print(\"Contains zero:\", 0 in arr)\n",
        "print( arr.dtype,arr)"
      ],
      "metadata": {
        "colab": {
          "base_uri": "https://localhost:8080/"
        },
        "id": "YVwpFyV9VFHz",
        "outputId": "5eeda922-8a01-4218-bfe8-e5140d0937b0"
      },
      "execution_count": 22,
      "outputs": [
        {
          "output_type": "stream",
          "name": "stdout",
          "text": [
            "Contains zero: False\n",
            "int64 [1 5 6 9 8]\n"
          ]
        }
      ]
    },
    {
      "cell_type": "markdown",
      "source": [
        "5. Test Finiteness of Elements"
      ],
      "metadata": {
        "id": "Q_9gkf78VuHR"
      }
    },
    {
      "cell_type": "code",
      "source": [
        "arr = np.array([0, 2, 3, 0, 5])\n",
        "\n",
        "result = arr != 0\n",
        "print(result)"
      ],
      "metadata": {
        "colab": {
          "base_uri": "https://localhost:8080/"
        },
        "id": "Kpmn5g8PVr4o",
        "outputId": "228a77c6-9af8-453a-9b55-2cbfc5ab3aed"
      },
      "execution_count": 23,
      "outputs": [
        {
          "output_type": "stream",
          "name": "stdout",
          "text": [
            "[False  True  True False  True]\n"
          ]
        }
      ]
    },
    {
      "cell_type": "markdown",
      "source": [
        "6. Test for Infinity"
      ],
      "metadata": {
        "id": "X_K8JCUrV1HO"
      }
    },
    {
      "cell_type": "code",
      "source": [
        "arr=np.array([1,2,3,4,5])\n",
        "result=np.isinf(arr)\n",
        "print(result)"
      ],
      "metadata": {
        "colab": {
          "base_uri": "https://localhost:8080/"
        },
        "id": "s1iFb55DV0x6",
        "outputId": "c60f1903-0b58-4082-96ec-26f45dc9f4ad"
      },
      "execution_count": 24,
      "outputs": [
        {
          "output_type": "stream",
          "name": "stdout",
          "text": [
            "[False False False False False]\n"
          ]
        }
      ]
    },
    {
      "cell_type": "markdown",
      "source": [
        "7. Test for NaN\n"
      ],
      "metadata": {
        "id": "Ho0djXq7WWR7"
      }
    },
    {
      "cell_type": "code",
      "source": [
        "arr=np.array([1,2,3,4,5])\n",
        "result=np.isnan(arr)\n",
        "print(result)"
      ],
      "metadata": {
        "colab": {
          "base_uri": "https://localhost:8080/"
        },
        "id": "bGzv-OtRWYh7",
        "outputId": "c143effd-1180-4228-adf3-b77df5ea78fa"
      },
      "execution_count": 25,
      "outputs": [
        {
          "output_type": "stream",
          "name": "stdout",
          "text": [
            "[False False False False False]\n"
          ]
        }
      ]
    },
    {
      "cell_type": "markdown",
      "source": [
        "8. Test for Complex/Real/Scalar"
      ],
      "metadata": {
        "id": "wW2QkxOtW4T8"
      }
    },
    {
      "cell_type": "code",
      "source": [
        "arr=np.array([1,2,3,4,\"ahmed\"])\n",
        "result=np.isreal(arr)\n",
        "print(result)"
      ],
      "metadata": {
        "colab": {
          "base_uri": "https://localhost:8080/"
        },
        "id": "dg3P0RJ-Wxa8",
        "outputId": "48ee5e16-5302-4b99-9131-164ac21e04c7"
      },
      "execution_count": 26,
      "outputs": [
        {
          "output_type": "stream",
          "name": "stdout",
          "text": [
            "[False False False False False]\n"
          ]
        }
      ]
    },
    {
      "cell_type": "markdown",
      "source": [
        "9. Test Element-Wise Tolerance Equality\n",
        "\n"
      ],
      "metadata": {
        "id": "RXZQcDs5XF3y"
      }
    },
    {
      "cell_type": "code",
      "source": [
        "\n",
        "a = np.array([1.0, 2.01, 3.0001])\n",
        "b = np.array([1.0, 2.0, 3.0000])\n",
        "\n",
        "result = np.isclose(a, b, rtol=1e-03, atol=1e-05)\n",
        "print(result)\n"
      ],
      "metadata": {
        "colab": {
          "base_uri": "https://localhost:8080/"
        },
        "id": "urY2eVihXI2M",
        "outputId": "66ad0821-c8cf-43f8-a1b6-05e4119f9944"
      },
      "execution_count": 27,
      "outputs": [
        {
          "output_type": "stream",
          "name": "stdout",
          "text": [
            "[ True False  True]\n"
          ]
        }
      ]
    },
    {
      "cell_type": "markdown",
      "source": [
        "10. Element-Wise Comparison (Greater/Less)\n"
      ],
      "metadata": {
        "id": "CVHnya0tXo2a"
      }
    },
    {
      "cell_type": "code",
      "source": [
        "arr=np.array([1,2,3,4,5])\n",
        "arr1=np.array([20,2,10,4,5])\n",
        "result=np.greater(arr1,arr)\n",
        "print(result)"
      ],
      "metadata": {
        "colab": {
          "base_uri": "https://localhost:8080/"
        },
        "id": "TFXAoUJvXooy",
        "outputId": "c0757f8a-2d57-4eee-9dd2-da1400e5730c"
      },
      "execution_count": 28,
      "outputs": [
        {
          "output_type": "stream",
          "name": "stdout",
          "text": [
            "[ True False  True False False]\n"
          ]
        }
      ]
    },
    {
      "cell_type": "markdown",
      "source": [
        "11. Element-Wise Comparison (Equal/Tolerance)\n"
      ],
      "metadata": {
        "id": "zy1BYST0YbIe"
      }
    },
    {
      "cell_type": "code",
      "source": [
        "arr=np.array([1,2,3,4,5])\n",
        "arr1=np.array([20,2,10,4,5])\n",
        "result=np.equal(arr1,arr)\n",
        "print(result)"
      ],
      "metadata": {
        "colab": {
          "base_uri": "https://localhost:8080/"
        },
        "id": "9VSjLBLBYeLg",
        "outputId": "7e6f3f6e-b38f-447e-8a27-08dcb43d7ec5"
      },
      "execution_count": 29,
      "outputs": [
        {
          "output_type": "stream",
          "name": "stdout",
          "text": [
            "[False  True False  True  True]\n"
          ]
        }
      ]
    },
    {
      "cell_type": "markdown",
      "source": [
        "12. Array Memory Size\n"
      ],
      "metadata": {
        "id": "pG57kw9Nar5c"
      }
    },
    {
      "cell_type": "code",
      "source": [
        "arr=np.array([1,2,3,4,5])\n",
        "print(np.size(arr))"
      ],
      "metadata": {
        "colab": {
          "base_uri": "https://localhost:8080/"
        },
        "id": "A0yfJrizatKw",
        "outputId": "d90f1650-bf81-48ba-9704-b9ae5ac206c9"
      },
      "execution_count": 30,
      "outputs": [
        {
          "output_type": "stream",
          "name": "stdout",
          "text": [
            "5\n"
          ]
        }
      ]
    },
    {
      "cell_type": "markdown",
      "source": [
        "13. Create Array of Zeros, Ones, Fives"
      ],
      "metadata": {
        "id": "tj3TS0Wwa4qY"
      }
    },
    {
      "cell_type": "code",
      "source": [
        "arr=np.array([1,2,3,4,5])\n",
        "print(arr.dtype)\n",
        "zeros=np.zeros_like(arr)\n",
        "print(zeros,np.dtype)\n",
        "ones=np.ones_like(arr)\n",
        "print(ones,np.dtype)"
      ],
      "metadata": {
        "colab": {
          "base_uri": "https://localhost:8080/"
        },
        "id": "HftwGk6Ua0xX",
        "outputId": "3353f766-ef7f-4e62-9672-42bc1b26d364"
      },
      "execution_count": 31,
      "outputs": [
        {
          "output_type": "stream",
          "name": "stdout",
          "text": [
            "int64\n",
            "[0 0 0 0 0] <class 'numpy.dtype'>\n",
            "[1 1 1 1 1] <class 'numpy.dtype'>\n"
          ]
        }
      ]
    },
    {
      "cell_type": "markdown",
      "source": [
        "14. Create Array of Integers 30 to 70\n"
      ],
      "metadata": {
        "id": "wL5Abu6wbfLA"
      }
    },
    {
      "cell_type": "code",
      "source": [
        "arr=np.array(range(30,70,1))\n",
        "print(arr,arr.dtype)"
      ],
      "metadata": {
        "colab": {
          "base_uri": "https://localhost:8080/"
        },
        "id": "CCumRtLabiF7",
        "outputId": "9d2a248b-594c-465c-88dd-50c5a4139c8b"
      },
      "execution_count": 32,
      "outputs": [
        {
          "output_type": "stream",
          "name": "stdout",
          "text": [
            "[30 31 32 33 34 35 36 37 38 39 40 41 42 43 44 45 46 47 48 49 50 51 52 53\n",
            " 54 55 56 57 58 59 60 61 62 63 64 65 66 67 68 69] int64\n"
          ]
        }
      ]
    },
    {
      "cell_type": "markdown",
      "source": [
        "15. Create Array of Even Integers 30 to 70"
      ],
      "metadata": {
        "id": "USkgcZFobx9U"
      }
    },
    {
      "cell_type": "code",
      "source": [
        "arr=np.array(range(30,70,2))\n",
        "print(arr,arr.dtype)"
      ],
      "metadata": {
        "colab": {
          "base_uri": "https://localhost:8080/"
        },
        "id": "lthQyf8jb0jK",
        "outputId": "17ef02a7-0fba-46b8-b9a1-71b8c648104a"
      },
      "execution_count": 33,
      "outputs": [
        {
          "output_type": "stream",
          "name": "stdout",
          "text": [
            "[30 32 34 36 38 40 42 44 46 48 50 52 54 56 58 60 62 64 66 68] int64\n"
          ]
        }
      ]
    },
    {
      "cell_type": "markdown",
      "source": [
        "16. Create 3x3 Identity Matrix"
      ],
      "metadata": {
        "id": "XV8d-CUncD7-"
      }
    },
    {
      "cell_type": "code",
      "source": [
        "matrix=np.identity(3)\n",
        "print(matrix)"
      ],
      "metadata": {
        "colab": {
          "base_uri": "https://localhost:8080/"
        },
        "id": "FDuj2wSAcFBI",
        "outputId": "04e9e1fb-50e2-4161-aadd-1fe8b0ea65d8"
      },
      "execution_count": 34,
      "outputs": [
        {
          "output_type": "stream",
          "name": "stdout",
          "text": [
            "[[1. 0. 0.]\n",
            " [0. 1. 0.]\n",
            " [0. 0. 1.]]\n"
          ]
        }
      ]
    },
    {
      "cell_type": "markdown",
      "source": [
        "17. Generate Random Number [0,1]"
      ],
      "metadata": {
        "id": "0_qFSodqcSYe"
      }
    },
    {
      "cell_type": "code",
      "source": [
        "arr=np.random.rand()\n",
        "print(arr)"
      ],
      "metadata": {
        "colab": {
          "base_uri": "https://localhost:8080/"
        },
        "id": "xacp6y-bcSMK",
        "outputId": "807feb22-30ab-4228-f4c6-21a78f189ead"
      },
      "execution_count": 35,
      "outputs": [
        {
          "output_type": "stream",
          "name": "stdout",
          "text": [
            "0.43085979152451925\n"
          ]
        }
      ]
    },
    {
      "cell_type": "markdown",
      "source": [
        "18. Generate Random Array from Standard Normal"
      ],
      "metadata": {
        "id": "Ye5i4cIbcsEA"
      }
    },
    {
      "cell_type": "code",
      "source": [
        "arr=np.random.seed(15)\n",
        "arr=np.random.rand(4)\n",
        "print(arr)"
      ],
      "metadata": {
        "colab": {
          "base_uri": "https://localhost:8080/"
        },
        "id": "RDQ1XMYdcrk5",
        "outputId": "c1cb81f1-bed3-4b35-b46d-1bd482707a58"
      },
      "execution_count": 36,
      "outputs": [
        {
          "output_type": "stream",
          "name": "stdout",
          "text": [
            "[0.8488177  0.17889592 0.05436321 0.36153845]\n"
          ]
        }
      ]
    },
    {
      "cell_type": "markdown",
      "source": [
        "19. Vector 15-55 Without First/Last Values"
      ],
      "metadata": {
        "id": "Z4bARpS4dIMW"
      }
    },
    {
      "cell_type": "code",
      "source": [
        "vector = np.arange(15, 56)\n",
        "print( vector, vector[1:-1])"
      ],
      "metadata": {
        "colab": {
          "base_uri": "https://localhost:8080/"
        },
        "id": "OY7DpXizdIGW",
        "outputId": "71142063-404b-469c-d0b5-9bf498671f97"
      },
      "execution_count": 37,
      "outputs": [
        {
          "output_type": "stream",
          "name": "stdout",
          "text": [
            "[15 16 17 18 19 20 21 22 23 24 25 26 27 28 29 30 31 32 33 34 35 36 37 38\n",
            " 39 40 41 42 43 44 45 46 47 48 49 50 51 52 53 54 55] [16 17 18 19 20 21 22 23 24 25 26 27 28 29 30 31 32 33 34 35 36 37 38 39\n",
            " 40 41 42 43 44 45 46 47 48 49 50 51 52 53 54]\n"
          ]
        }
      ]
    },
    {
      "cell_type": "markdown",
      "source": [
        "20. Create and Iterate 3x4 Array"
      ],
      "metadata": {
        "id": "Z7q_1Zb7dic8"
      }
    },
    {
      "cell_type": "code",
      "source": [
        "arr=np.random.rand(3,4)\n",
        "print (arr)"
      ],
      "metadata": {
        "colab": {
          "base_uri": "https://localhost:8080/"
        },
        "id": "SN5LrZJ7diKM",
        "outputId": "058b420d-ffac-49e9-d195-18f6bb7dd084"
      },
      "execution_count": 38,
      "outputs": [
        {
          "output_type": "stream",
          "name": "stdout",
          "text": [
            "[[0.27540093 0.53000022 0.30591892 0.30447436]\n",
            " [0.11174128 0.24989901 0.9176299  0.26414685]\n",
            " [0.71777369 0.86571503 0.80707948 0.21055058]]\n"
          ]
        }
      ]
    },
    {
      "cell_type": "markdown",
      "source": [
        "21. Create Vector of Evenly Spaced Values"
      ],
      "metadata": {
        "id": "6zUn2qWFeXJU"
      }
    },
    {
      "cell_type": "code",
      "source": [
        "vector = np.linspace(5, 50, 10)\n",
        "print(\"Evenly spaced vector:\", vector)"
      ],
      "metadata": {
        "colab": {
          "base_uri": "https://localhost:8080/"
        },
        "id": "ECS4fNQreW-W",
        "outputId": "5d158ccc-314d-4869-f0de-9972fddf5800"
      },
      "execution_count": 39,
      "outputs": [
        {
          "output_type": "stream",
          "name": "stdout",
          "text": [
            "Evenly spaced vector: [ 5. 10. 15. 20. 25. 30. 35. 40. 45. 50.]\n"
          ]
        }
      ]
    },
    {
      "cell_type": "markdown",
      "source": [
        "22. Change Sign of Range 9-15"
      ],
      "metadata": {
        "id": "2AIovinIe2gU"
      }
    },
    {
      "cell_type": "code",
      "source": [
        "vector = np.arange(5, 50)\n",
        "print( vector)\n",
        "arr=-vector\n",
        "print(\"the signed array is\",arr)"
      ],
      "metadata": {
        "colab": {
          "base_uri": "https://localhost:8080/"
        },
        "id": "LRgn2B5_e2ao",
        "outputId": "5647bd90-495c-486c-be1e-1780e4916e3a"
      },
      "execution_count": 40,
      "outputs": [
        {
          "output_type": "stream",
          "name": "stdout",
          "text": [
            "[ 5  6  7  8  9 10 11 12 13 14 15 16 17 18 19 20 21 22 23 24 25 26 27 28\n",
            " 29 30 31 32 33 34 35 36 37 38 39 40 41 42 43 44 45 46 47 48 49]\n",
            "the signed array is [ -5  -6  -7  -8  -9 -10 -11 -12 -13 -14 -15 -16 -17 -18 -19 -20 -21 -22\n",
            " -23 -24 -25 -26 -27 -28 -29 -30 -31 -32 -33 -34 -35 -36 -37 -38 -39 -40\n",
            " -41 -42 -43 -44 -45 -46 -47 -48 -49]\n"
          ]
        }
      ]
    },
    {
      "cell_type": "markdown",
      "source": [
        "23. Vector of Random Integers [0,10]"
      ],
      "metadata": {
        "id": "5vaOuE1ffszw"
      }
    },
    {
      "cell_type": "code",
      "source": [
        "vector = np.random.randint(0, 11, size=5)\n",
        "\n",
        "print( vector)"
      ],
      "metadata": {
        "colab": {
          "base_uri": "https://localhost:8080/"
        },
        "id": "EXT-CRsxfssU",
        "outputId": "9052d05f-2211-40d0-934b-637cd318e7c2"
      },
      "execution_count": 41,
      "outputs": [
        {
          "output_type": "stream",
          "name": "stdout",
          "text": [
            "[6 8 2 1 1]\n"
          ]
        }
      ]
    },
    {
      "cell_type": "markdown",
      "source": [
        "24. Multiply Two Vectors\n",
        "\n"
      ],
      "metadata": {
        "id": "G3SC6Q6IgExw"
      }
    },
    {
      "cell_type": "code",
      "source": [
        "vector = np.random.randint(0, 11, size=5)\n",
        "vector1 = np.random.randint(0, 11, size=5)\n",
        "print(vector)\n",
        "print(vector1)\n",
        "\n",
        "print(\"rhe result of multiply is \", vector*vector1)"
      ],
      "metadata": {
        "colab": {
          "base_uri": "https://localhost:8080/"
        },
        "id": "JPSmlTcVgEqY",
        "outputId": "a5ba7f92-0ca6-40ac-d1a0-5ae0129864af"
      },
      "execution_count": 42,
      "outputs": [
        {
          "output_type": "stream",
          "name": "stdout",
          "text": [
            "[ 0  5 10  2  2]\n",
            "[1 8 5 6 9]\n",
            "rhe result of multiply is  [ 0 40 50 12 18]\n"
          ]
        }
      ]
    },
    {
      "cell_type": "markdown",
      "source": [
        "25. Create 3x4 Matrix (10 to 21)\n",
        "\n"
      ],
      "metadata": {
        "id": "HvZJ_tZIgpnG"
      }
    },
    {
      "cell_type": "code",
      "source": [
        "arr=np.arange(10,22)\n",
        "matrix=arr.reshape(3,4)\n",
        "print(matrix)"
      ],
      "metadata": {
        "colab": {
          "base_uri": "https://localhost:8080/"
        },
        "id": "g4uH6Ubcgpau",
        "outputId": "6859d8dd-8bb5-4453-92c2-dbeab70e9377"
      },
      "execution_count": 43,
      "outputs": [
        {
          "output_type": "stream",
          "name": "stdout",
          "text": [
            "[[10 11 12 13]\n",
            " [14 15 16 17]\n",
            " [18 19 20 21]]\n"
          ]
        }
      ]
    },
    {
      "cell_type": "markdown",
      "source": [
        "26. Rows & Columns in Matrix\n"
      ],
      "metadata": {
        "id": "PTiVlGCyhrRz"
      }
    },
    {
      "cell_type": "code",
      "source": [
        "m = np.arange(10, 22).reshape((3, 4))\n",
        "print(\"Original matrix:\")\n",
        "print(m)\n",
        "print(\"Number of rows and columns of the said matrix:\")\n",
        "print(m.shape)"
      ],
      "metadata": {
        "colab": {
          "base_uri": "https://localhost:8080/"
        },
        "id": "5Ai64L3UhrKL",
        "outputId": "daf33e49-a3f0-495a-d19b-cf087369ef16"
      },
      "execution_count": 44,
      "outputs": [
        {
          "output_type": "stream",
          "name": "stdout",
          "text": [
            "Original matrix:\n",
            "[[10 11 12 13]\n",
            " [14 15 16 17]\n",
            " [18 19 20 21]]\n",
            "Number of rows and columns of the said matrix:\n",
            "(3, 4)\n"
          ]
        }
      ]
    },
    {
      "cell_type": "markdown",
      "source": [
        "27. Create 3x3 Identity Matrix"
      ],
      "metadata": {
        "id": "9AoefI5miJCu"
      }
    },
    {
      "cell_type": "code",
      "source": [
        "matrix=np.identity(3)\n",
        "print(matrix)"
      ],
      "metadata": {
        "colab": {
          "base_uri": "https://localhost:8080/"
        },
        "id": "1r-JFEcqiI7T",
        "outputId": "4f59da41-20a0-4d85-944c-0f4c7d39be66"
      },
      "execution_count": 45,
      "outputs": [
        {
          "output_type": "stream",
          "name": "stdout",
          "text": [
            "[[1. 0. 0.]\n",
            " [0. 1. 0.]\n",
            " [0. 0. 1.]]\n"
          ]
        }
      ]
    },
    {
      "cell_type": "markdown",
      "source": [
        "28. 10x10 Matrix Border 1, Inside 0\n"
      ],
      "metadata": {
        "id": "9wJjwcaKiVhD"
      }
    },
    {
      "cell_type": "code",
      "source": [
        "matrix=np.identity(10)\n",
        "zeros=np.zeros_like(matrix)\n",
        "print(zeros)"
      ],
      "metadata": {
        "colab": {
          "base_uri": "https://localhost:8080/"
        },
        "id": "KF_n2MF1iVT6",
        "outputId": "fc574e53-40cc-41d1-f242-e66d630e8e4d"
      },
      "execution_count": 46,
      "outputs": [
        {
          "output_type": "stream",
          "name": "stdout",
          "text": [
            "[[0. 0. 0. 0. 0. 0. 0. 0. 0. 0.]\n",
            " [0. 0. 0. 0. 0. 0. 0. 0. 0. 0.]\n",
            " [0. 0. 0. 0. 0. 0. 0. 0. 0. 0.]\n",
            " [0. 0. 0. 0. 0. 0. 0. 0. 0. 0.]\n",
            " [0. 0. 0. 0. 0. 0. 0. 0. 0. 0.]\n",
            " [0. 0. 0. 0. 0. 0. 0. 0. 0. 0.]\n",
            " [0. 0. 0. 0. 0. 0. 0. 0. 0. 0.]\n",
            " [0. 0. 0. 0. 0. 0. 0. 0. 0. 0.]\n",
            " [0. 0. 0. 0. 0. 0. 0. 0. 0. 0.]\n",
            " [0. 0. 0. 0. 0. 0. 0. 0. 0. 0.]]\n"
          ]
        }
      ]
    },
    {
      "cell_type": "markdown",
      "source": [],
      "metadata": {
        "id": "DBDcrjpFiq6t"
      }
    },
    {
      "cell_type": "markdown",
      "source": [
        "29. Diagonal 5x5 Matrix (1-5)\n"
      ],
      "metadata": {
        "id": "keJqnmCoi0IW"
      }
    },
    {
      "cell_type": "code",
      "source": [
        "matrix = np.zeros((5, 5), dtype=int)\n",
        "diagonal = [1, 2, 3, 4, 5]\n",
        "np.fill_diagonal(matrix, diagonal)\n",
        "print( matrix)"
      ],
      "metadata": {
        "colab": {
          "base_uri": "https://localhost:8080/"
        },
        "id": "tiILDj0giqy0",
        "outputId": "8ceede22-5957-4f64-c10f-41337b2ef872"
      },
      "execution_count": 47,
      "outputs": [
        {
          "output_type": "stream",
          "name": "stdout",
          "text": [
            "[[1 0 0 0 0]\n",
            " [0 2 0 0 0]\n",
            " [0 0 3 0 0]\n",
            " [0 0 0 4 0]\n",
            " [0 0 0 0 5]]\n"
          ]
        }
      ]
    },
    {
      "cell_type": "markdown",
      "source": [
        "30. Staggered 4x4 Matrix (0,1)\n"
      ],
      "metadata": {
        "id": "Vnqqvhsoi-PI"
      }
    },
    {
      "cell_type": "code",
      "source": [
        "matrix=np.identity(4)\n",
        "print(matrix)"
      ],
      "metadata": {
        "colab": {
          "base_uri": "https://localhost:8080/"
        },
        "id": "IfCYxS4Ui-IY",
        "outputId": "58e427b8-64a5-437b-b2f3-b4f6ab5f8301"
      },
      "execution_count": 48,
      "outputs": [
        {
          "output_type": "stream",
          "name": "stdout",
          "text": [
            "[[1. 0. 0. 0.]\n",
            " [0. 1. 0. 0.]\n",
            " [0. 0. 1. 0.]\n",
            " [0. 0. 0. 1.]]\n"
          ]
        }
      ]
    },
    {
      "cell_type": "markdown",
      "source": [
        "31. Create 3x3x3 Array of Values\n",
        "\n"
      ],
      "metadata": {
        "id": "heoHagrMjH5K"
      }
    },
    {
      "cell_type": "code",
      "source": [
        "array = np.arange(27).reshape(3, 3, 3)\n",
        "\n",
        "print(array)"
      ],
      "metadata": {
        "colab": {
          "base_uri": "https://localhost:8080/"
        },
        "id": "Hv8b0oT7jHzz",
        "outputId": "c9d2b205-98d3-4729-d9e9-fb36932a2cd6"
      },
      "execution_count": 49,
      "outputs": [
        {
          "output_type": "stream",
          "name": "stdout",
          "text": [
            "[[[ 0  1  2]\n",
            "  [ 3  4  5]\n",
            "  [ 6  7  8]]\n",
            "\n",
            " [[ 9 10 11]\n",
            "  [12 13 14]\n",
            "  [15 16 17]]\n",
            "\n",
            " [[18 19 20]\n",
            "  [21 22 23]\n",
            "  [24 25 26]]]\n"
          ]
        }
      ]
    },
    {
      "cell_type": "markdown",
      "source": [
        "32. Compute Sums (All, Row, Column)\n",
        "\n"
      ],
      "metadata": {
        "id": "E_AQet8HjXt5"
      }
    },
    {
      "cell_type": "code",
      "source": [
        "arr=np.array([[1,2,3,4,5],[5,6,7,8,9]])\n",
        "print(np.sum(arr))"
      ],
      "metadata": {
        "colab": {
          "base_uri": "https://localhost:8080/"
        },
        "id": "h314mctVjXoZ",
        "outputId": "44c57899-1c52-4a63-c276-89e83910b0cc"
      },
      "execution_count": 50,
      "outputs": [
        {
          "output_type": "stream",
          "name": "stdout",
          "text": [
            "50\n"
          ]
        }
      ]
    },
    {
      "cell_type": "markdown",
      "source": [
        "33. Compute Inner Product of Vectors\n",
        "\n"
      ],
      "metadata": {
        "id": "Yt7oYmYwjtpS"
      }
    },
    {
      "cell_type": "code",
      "source": [
        "a = np.array([1, 2, 3])\n",
        "b = np.array([4, 5, 6])\n",
        "inner_product = np.dot(a, b)\n",
        "print(inner_product)"
      ],
      "metadata": {
        "colab": {
          "base_uri": "https://localhost:8080/"
        },
        "id": "8pf8_em5jtiP",
        "outputId": "c40afe71-3815-44d0-9b35-56422cc53520"
      },
      "execution_count": 51,
      "outputs": [
        {
          "output_type": "stream",
          "name": "stdout",
          "text": [
            "32\n"
          ]
        }
      ]
    },
    {
      "cell_type": "markdown",
      "source": [
        "34. Add Vector to Matrix Rows\n",
        "\n"
      ],
      "metadata": {
        "id": "0QvK816PkDn4"
      }
    },
    {
      "cell_type": "code",
      "source": [
        "matrix = np.array([[1, 2, 3],\n",
        "                   [4, 5, 6],\n",
        "                   [7, 8, 9]])\n",
        "vector = np.array([10, 20, 30])\n",
        "result = matrix + vector\n",
        "\n",
        "\n",
        "print(matrix)\n",
        "print(result)"
      ],
      "metadata": {
        "id": "Lg9Bv-DMkDgd",
        "colab": {
          "base_uri": "https://localhost:8080/"
        },
        "outputId": "c643dd40-835e-4acc-b821-f8be879173ff"
      },
      "execution_count": 52,
      "outputs": [
        {
          "output_type": "stream",
          "name": "stdout",
          "text": [
            "[[1 2 3]\n",
            " [4 5 6]\n",
            " [7 8 9]]\n",
            "[[11 22 33]\n",
            " [14 25 36]\n",
            " [17 28 39]]\n"
          ]
        }
      ]
    },
    {
      "cell_type": "markdown",
      "source": [
        "35. Save Array to Binary File\n",
        "\n"
      ],
      "metadata": {
        "id": "vHAt3ovCcVbn"
      }
    },
    {
      "cell_type": "code",
      "source": [
        "array = np.array([1, 2, 3, 4, 5])\n",
        "np.save('my_array.npy', array)\n",
        "print(\"Array saved to 'my_array.npy'\")\n"
      ],
      "metadata": {
        "colab": {
          "base_uri": "https://localhost:8080/"
        },
        "id": "wiYMzDNIcVQ9",
        "outputId": "b45117ef-0271-49c4-946d-23792168f895"
      },
      "execution_count": 53,
      "outputs": [
        {
          "output_type": "stream",
          "name": "stdout",
          "text": [
            "Array saved to 'my_array.npy'\n"
          ]
        }
      ]
    },
    {
      "cell_type": "markdown",
      "source": [],
      "metadata": {
        "id": "rupCq1KVcegi"
      }
    },
    {
      "cell_type": "markdown",
      "source": [
        "36. Save Array and Load from Binary File\n",
        "\n"
      ],
      "metadata": {
        "id": "JmNLxqqoclV6"
      }
    },
    {
      "cell_type": "code",
      "source": [
        "array = np.array([[10, 20, 30], [40, 50, 60]])\n",
        "\n",
        "# Save the array to a binary file\n",
        "np.save('example_array.npy', array)\n",
        "\n",
        "print(\"Array saved to 'example_array.npy'\")"
      ],
      "metadata": {
        "colab": {
          "base_uri": "https://localhost:8080/"
        },
        "id": "3CKjtGmMceZv",
        "outputId": "4101c519-ac81-4392-f325-f985f4aafcb1"
      },
      "execution_count": 54,
      "outputs": [
        {
          "output_type": "stream",
          "name": "stdout",
          "text": [
            "Array saved to 'example_array.npy'\n"
          ]
        }
      ]
    },
    {
      "cell_type": "markdown",
      "source": [
        "37. Save and Load Array from Text File\n",
        "\n"
      ],
      "metadata": {
        "id": "0CAXB615c3Dt"
      }
    },
    {
      "cell_type": "code",
      "source": [
        "array = np.array([[1.5, 2.5, 3.5],\n",
        "                  [4.5, 5.5, 6.5]])\n",
        "\n",
        "np.savetxt('array_data.txt', array, fmt='%.2f')\n",
        "\n",
        "print(\"Array saved to 'array_data.txt'\")"
      ],
      "metadata": {
        "colab": {
          "base_uri": "https://localhost:8080/"
        },
        "id": "cypi9EMPc298",
        "outputId": "56c2fae3-d44b-462b-d50f-a079612219da"
      },
      "execution_count": 55,
      "outputs": [
        {
          "output_type": "stream",
          "name": "stdout",
          "text": [
            "Array saved to 'array_data.txt'\n"
          ]
        }
      ]
    },
    {
      "cell_type": "markdown",
      "source": [
        "39. List to Array to List Comparison\n",
        "\n"
      ],
      "metadata": {
        "id": "xDB13xWnsrMv"
      }
    },
    {
      "cell_type": "code",
      "source": [
        "l=[1,2,3,4,5]\n",
        "arr=np.array(l)\n",
        "print(arr.dtype,arr)"
      ],
      "metadata": {
        "colab": {
          "base_uri": "https://localhost:8080/"
        },
        "id": "TxI-bV8usq_5",
        "outputId": "ca63905d-f834-43e0-befa-99d90b0a74a8"
      },
      "execution_count": 56,
      "outputs": [
        {
          "output_type": "stream",
          "name": "stdout",
          "text": [
            "int64 [1 2 3 4 5]\n"
          ]
        }
      ]
    },
    {
      "cell_type": "markdown",
      "source": [
        "40. Sine Curve Coordinates with Plot\n",
        "\n"
      ],
      "metadata": {
        "id": "XTHPy0b0tNb-"
      }
    },
    {
      "cell_type": "code",
      "source": [
        "import matplotlib.pyplot as plt\n",
        "\n",
        "x = np.arange(0, 3 * np.pi, 0.2)\n",
        "y = np.sin(x)\n",
        "print(\"Plot the points using matplotlib:\")\n",
        "plt.plot(x, y)\n"
      ],
      "metadata": {
        "colab": {
          "base_uri": "https://localhost:8080/",
          "height": 465
        },
        "id": "1_0Ff62-tNUp",
        "outputId": "dd046266-ea2c-4710-bbd9-441a5ec0b745"
      },
      "execution_count": 57,
      "outputs": [
        {
          "output_type": "stream",
          "name": "stdout",
          "text": [
            "Plot the points using matplotlib:\n"
          ]
        },
        {
          "output_type": "execute_result",
          "data": {
            "text/plain": [
              "[<matplotlib.lines.Line2D at 0x7aea8622e2d0>]"
            ]
          },
          "metadata": {},
          "execution_count": 57
        },
        {
          "output_type": "display_data",
          "data": {
            "text/plain": [
              "<Figure size 640x480 with 1 Axes>"
            ],
            "image/png": "[encoded data removed]"
          },
          "metadata": {}
        }
      ]
    },
    {
      "cell_type": "markdown",
      "source": [
        "41. Convert NumPy Dtypes to Python Types\n",
        "\n"
      ],
      "metadata": {
        "id": "a71IrVMFtj_5"
      }
    },
    {
      "cell_type": "code",
      "source": [
        "matrix = np.array([\n",
        "    [1, 2, 0],\n",
        "    [3, 0, 4],\n",
        "    [5, 6, 7]\n",
        "])\n",
        "\n",
        "rows, cols = matrix.shape\n",
        "result = np.zeros(cols, dtype=int)\n",
        "\n",
        "for col in range(cols):\n",
        "    for row in range(rows):\n",
        "        val = matrix[row, col]\n",
        "        if val == 0:\n",
        "            break  # Stop summing this column below the 0\n",
        "        result[col] += val\n",
        "\n",
        "print(\"Matrix:\\n\", matrix)\n",
        "print(\"Conditional Column Sum:\", result)"
      ],
      "metadata": {
        "colab": {
          "base_uri": "https://localhost:8080/"
        },
        "id": "ohCMgTUAtj3W",
        "outputId": "c1eb5125-7818-44ce-b1e6-ad51e1751240"
      },
      "execution_count": 58,
      "outputs": [
        {
          "output_type": "stream",
          "name": "stdout",
          "text": [
            "Matrix:\n",
            " [[1 2 0]\n",
            " [3 0 4]\n",
            " [5 6 7]]\n",
            "Conditional Column Sum: [9 2 0]\n"
          ]
        }
      ]
    },
    {
      "cell_type": "markdown",
      "source": [
        "43. Find Missing Data in Array\n"
      ],
      "metadata": {
        "id": "CfyzFUT1ugHN"
      }
    },
    {
      "cell_type": "code",
      "source": [
        "arr = np.array([3.5, np.nan, 7.2, np.nan, 4.1])\n",
        "missing_mask = np.isnan(arr)\n",
        "print(\"Original array:\", arr)\n",
        "print(\"Missing data mask:\", missing_mask)\n"
      ],
      "metadata": {
        "colab": {
          "base_uri": "https://localhost:8080/"
        },
        "id": "dTAWUTHFubDo",
        "outputId": "ac991f83-9fc0-4519-af41-ea33e66c628e"
      },
      "execution_count": 59,
      "outputs": [
        {
          "output_type": "stream",
          "name": "stdout",
          "text": [
            "Original array: [3.5 nan 7.2 nan 4.1]\n",
            "Missing data mask: [False  True False  True False]\n"
          ]
        }
      ]
    },
    {
      "cell_type": "markdown",
      "source": [
        "44. Compare Two Arrays (Element-Wise)\n"
      ],
      "metadata": {
        "id": "9bYA0ZbeuiyO"
      }
    },
    {
      "cell_type": "code",
      "source": [
        "import numpy as np\n",
        "\n",
        "a = np.array([1, 2, 3, 4, 5])\n",
        "b = np.array([1, 0, 3, 10, 2])\n",
        "\n",
        "equal = a == b\n",
        "greater = a > b\n",
        "less = a < b\n",
        "\n",
        "print(\"Array a:\", a)\n",
        "print(\"Array b:\", b)\n",
        "print(\"Equal elements:\", equal)\n",
        "print(\"a > b:\", greater)\n",
        "print(\"a < b:\", less)\n"
      ],
      "metadata": {
        "colab": {
          "base_uri": "https://localhost:8080/"
        },
        "id": "j8jVF7Viuimy",
        "outputId": "02c5d6b8-8826-4420-a1f5-e4771b3806b9"
      },
      "execution_count": 60,
      "outputs": [
        {
          "output_type": "stream",
          "name": "stdout",
          "text": [
            "Array a: [1 2 3 4 5]\n",
            "Array b: [ 1  0  3 10  2]\n",
            "Equal elements: [ True False  True False False]\n",
            "a > b: [False  True False False  True]\n",
            "a < b: [False False False  True False]\n"
          ]
        }
      ]
    },
    {
      "cell_type": "markdown",
      "source": [
        "45. Create 1D Array of Digits\n",
        "\n"
      ],
      "metadata": {
        "id": "hjMDRBrQu_ZQ"
      }
    },
    {
      "cell_type": "code",
      "source": [
        "arr=np.array([1,2,3.4])\n",
        "print(arr)"
      ],
      "metadata": {
        "colab": {
          "base_uri": "https://localhost:8080/"
        },
        "id": "t-aRsLSFu_Tx",
        "outputId": "f08b189c-e3a3-45e0-a853-cf311665be7a"
      },
      "execution_count": 61,
      "outputs": [
        {
          "output_type": "stream",
          "name": "stdout",
          "text": [
            "[1.  2.  3.4]\n"
          ]
        }
      ]
    },
    {
      "cell_type": "markdown",
      "source": [
        "46. Create 2D Array of Specified Format\n",
        "\n"
      ],
      "metadata": {
        "id": "Cm7wEUPyvIs6"
      }
    },
    {
      "cell_type": "code",
      "source": [
        "arr=np.array([[1,2,3,4],[5,6,9,8]])\n",
        "print(arr)"
      ],
      "metadata": {
        "colab": {
          "base_uri": "https://localhost:8080/"
        },
        "id": "6EZAFmBXvIj2",
        "outputId": "6ad9d656-9239-42ea-e68e-a6496c9ca603"
      },
      "execution_count": 62,
      "outputs": [
        {
          "output_type": "stream",
          "name": "stdout",
          "text": [
            "[[1 2 3 4]\n",
            " [5 6 9 8]]\n"
          ]
        }
      ]
    },
    {
      "cell_type": "markdown",
      "source": [
        "47. Create Array of Random Uniform [0,1]\n",
        "\n"
      ],
      "metadata": {
        "id": "o0L8p6uPvaWh"
      }
    },
    {
      "cell_type": "code",
      "source": [
        "arr=np.random.uniform(1,0, size=(3,4))\n",
        "print(arr)"
      ],
      "metadata": {
        "colab": {
          "base_uri": "https://localhost:8080/"
        },
        "id": "bm5-3ZTbvaNd",
        "outputId": "f46af114-2137-4eba-9bcf-39d768be25e0"
      },
      "execution_count": 63,
      "outputs": [
        {
          "output_type": "stream",
          "name": "stdout",
          "text": [
            "[[0.05496158 0.89055335 0.53490684 0.85844474]\n",
            " [0.46165124 0.70100134 0.46225478 0.33437246]\n",
            " [0.6356712  0.37698138 0.35727511 0.58001818]]\n"
          ]
        }
      ]
    },
    {
      "cell_type": "markdown",
      "source": [
        "48. Random Normal Distribution 2D Array\n",
        "\n"
      ],
      "metadata": {
        "id": "XrwejLBEv5zm"
      }
    },
    {
      "cell_type": "code",
      "source": [
        "arr=np.random.rand(3,4)\n",
        "print(arr)"
      ],
      "metadata": {
        "colab": {
          "base_uri": "https://localhost:8080/"
        },
        "id": "IMFNePsLv5or",
        "outputId": "f640be49-8131-4b73-949c-29da839ed7df"
      },
      "execution_count": 64,
      "outputs": [
        {
          "output_type": "stream",
          "name": "stdout",
          "text": [
            "[[0.40324243 0.39042033 0.40618952 0.07966611]\n",
            " [0.0568312  0.07833091 0.69567781 0.02915896]\n",
            " [0.49949242 0.13263432 0.03075563 0.63948943]]\n"
          ]
        }
      ]
    },
    {
      "cell_type": "markdown",
      "source": [
        "49. Random Sampling with/without Replacement\n",
        "\n"
      ],
      "metadata": {
        "id": "XtQb0qGXwOMC"
      }
    },
    {
      "cell_type": "code",
      "source": [
        "sample_with = np.random.choice(np.arange(1, 11), size=5, replace=True)\n",
        "print(\"Sample with replacement:\", sample_with)"
      ],
      "metadata": {
        "colab": {
          "base_uri": "https://localhost:8080/"
        },
        "id": "--KPUXAvwOFW",
        "outputId": "1bf60191-ab02-40aa-b226-06a52be9d3f7"
      },
      "execution_count": 65,
      "outputs": [
        {
          "output_type": "stream",
          "name": "stdout",
          "text": [
            "Sample with replacement: [1 1 8 7 5]\n"
          ]
        }
      ]
    },
    {
      "cell_type": "markdown",
      "source": [
        "50. Swap Rows in 4x4 Random Array\n"
      ],
      "metadata": {
        "id": "-QUsKAxpwWuf"
      }
    },
    {
      "cell_type": "code",
      "source": [
        "arr = np.random.rand(4, 4)\n",
        "print(\"Original \\n\", arr)\n",
        "arr[[0, 3]] = arr[[3, 0]]\n",
        "print(\"\\nArray after\\n\", arr)"
      ],
      "metadata": {
        "colab": {
          "base_uri": "https://localhost:8080/"
        },
        "id": "8K9ca4AZwWlL",
        "outputId": "b357702b-ec63-468d-9729-a55b2f71f006"
      },
      "execution_count": 66,
      "outputs": [
        {
          "output_type": "stream",
          "name": "stdout",
          "text": [
            "Original \n",
            " [[0.46371144 0.92579733 0.33834708 0.1053438 ]\n",
            " [0.8693486  0.81698056 0.21731032 0.30976803]\n",
            " [0.62285139 0.53889703 0.91082541 0.28097269]\n",
            " [0.59764421 0.17458844 0.66153043 0.55184505]]\n",
            "\n",
            "Array after\n",
            " [[0.59764421 0.17458844 0.66153043 0.55184505]\n",
            " [0.8693486  0.81698056 0.21731032 0.30976803]\n",
            " [0.62285139 0.53889703 0.91082541 0.28097269]\n",
            " [0.46371144 0.92579733 0.33834708 0.1053438 ]]\n"
          ]
        }
      ]
    },
    {
      "cell_type": "markdown",
      "source": [],
      "metadata": {
        "id": "SqcqPnptdHos"
      }
    },
    {
      "cell_type": "markdown",
      "source": [],
      "metadata": {
        "id": "4QUtIyGzcre4"
      }
    }
  ]
}