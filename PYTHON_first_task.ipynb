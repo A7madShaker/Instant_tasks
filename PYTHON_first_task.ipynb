{
  "nbformat": 4,
  "nbformat_minor": 0,
  "metadata": {
    "colab": {
      "provenance": []
    },
    "kernelspec": {
      "name": "python3",
      "display_name": "Python 3"
    },
    "language_info": {
      "name": "python"
    }
  },
  "cells": [
    {
      "cell_type": "markdown",
      "source": [
        "\n",
        "\n",
        "```\n",
        "Ahmed mohamed shaker\n",
        "first task in instant```\n",
        "\n"
      ],
      "metadata": {
        "id": "Qo0QBMT5WAlN"
      }
    },
    {
      "cell_type": "code",
      "source": [
        "\"\"\"\n",
        "area of tringle=(1/2)*base*height)\n",
        "\"\"\"\n",
        "x=int(input(\"please enter the heigh of tringle.. \"))\n",
        "y=int(input(\"please enter the base of tringle.. \"))\n",
        "print(x*y/2)\n",
        "\n"
      ],
      "metadata": {
        "colab": {
          "base_uri": "https://localhost:8080/"
        },
        "id": "ZQu2K61MGzN2",
        "outputId": "528eeb8b-0975-40c5-dc7e-9e48bdf2e01c"
      },
      "execution_count": null,
      "outputs": [
        {
          "output_type": "stream",
          "name": "stdout",
          "text": [
            "please enter the heigh of tringle.. 10\n",
            "please enter the base of tringle.. 1\n",
            "5.0\n"
          ]
        }
      ]
    },
    {
      "cell_type": "code",
      "source": [
        "\"\"\"\n",
        "use input and output formtting\n",
        "\"\"\"\n",
        "x=float(input(\"enter your your area in kilometer..\"))\n",
        "x=x*1000000\n",
        "print(f\"your area in meter is {x}\")\n"
      ],
      "metadata": {
        "colab": {
          "base_uri": "https://localhost:8080/"
        },
        "id": "HWCZP-glJPF0",
        "outputId": "24db1c16-382e-4d6e-9722-7743bfa1ade7"
      },
      "execution_count": null,
      "outputs": [
        {
          "output_type": "stream",
          "name": "stdout",
          "text": [
            "enter your your area in kilometer..10\n",
            "your area in mile is 10000000.0\n"
          ]
        }
      ]
    },
    {
      "cell_type": "code",
      "source": [
        "\"\"\"\n",
        "swap between 2 numbers\n",
        "\"\"\"\n",
        "a=5\n",
        "b=20\n",
        "a,b=b,a\n",
        "print(\"a=\",a)\n",
        "print(\"b=\",b)"
      ],
      "metadata": {
        "colab": {
          "base_uri": "https://localhost:8080/"
        },
        "id": "vWpxsdZOMiYK",
        "outputId": "5993435f-b2b4-4bf2-fa17-8c8e9bbb5e5d"
      },
      "execution_count": null,
      "outputs": [
        {
          "output_type": "stream",
          "name": "stdout",
          "text": [
            "a= 20\n",
            "b= 5\n"
          ]
        }
      ]
    }
  ]
}