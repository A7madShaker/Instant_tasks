{
  "nbformat": 4,
  "nbformat_minor": 0,
  "metadata": {
    "colab": {
      "provenance": []
    },
    "kernelspec": {
      "name": "python3",
      "display_name": "Python 3"
    },
    "language_info": {
      "name": "python"
    }
  },
  "cells": [
    {
      "cell_type": "code",
      "execution_count": 2,
      "metadata": {
        "colab": {
          "base_uri": "https://localhost:8080/"
        },
        "id": "J132B7n77J9l",
        "outputId": "ea2ad2b4-c982-40f5-ced0-d7299da9743d"
      },
      "outputs": [
        {
          "output_type": "stream",
          "name": "stdout",
          "text": [
            "enter a number-20\n",
            "20\n"
          ]
        }
      ],
      "source": [
        "x=int(input(\"enter a number\"))\n",
        "print(abs(x))\n"
      ]
    },
    {
      "cell_type": "code",
      "source": [
        "x=int (input(\"enter the year\"))\n",
        "if(x%4==0):\n",
        "  print(\"leap year\")\n",
        "else:\n",
        "  print(\"not a leap year\")"
      ],
      "metadata": {
        "colab": {
          "base_uri": "https://localhost:8080/"
        },
        "id": "72UlNbve9JFe",
        "outputId": "3c10eb97-ee28-4bac-9393-fa4628413da8"
      },
      "execution_count": 5,
      "outputs": [
        {
          "output_type": "stream",
          "name": "stdout",
          "text": [
            "enter the year2000\n",
            "leap year\n"
          ]
        }
      ]
    },
    {
      "cell_type": "code",
      "source": [
        "def is_leap_year(year):\n",
        "    if (year % 4 == 0 and year % 100 != 0) or (year % 400 == 0):\n",
        "        return True\n",
        "    else:\n",
        "        return False\n",
        "\n",
        "year = int(input(\"Enter a year: \"))\n",
        "if is_leap_year(year):\n",
        "    print(f\"{year} is a leap year.\")\n",
        "else:\n",
        "    print(f\"{year} is not a leap year.\")"
      ],
      "metadata": {
        "colab": {
          "base_uri": "https://localhost:8080/"
        },
        "id": "L6joU2FZ-M1G",
        "outputId": "34a7cdf2-3bef-457c-e994-cf4041478caf"
      },
      "execution_count": 15,
      "outputs": [
        {
          "output_type": "stream",
          "name": "stdout",
          "text": [
            "Enter a year: 1900\n",
            "1900 is not a leap year.\n"
          ]
        }
      ]
    },
    {
      "cell_type": "code",
      "source": [
        "ages=[0,0,0]\n",
        "for i in range(3):\n",
        "  ages[i]=int(input(\"enter a age  \"))\n",
        "print(f\"the maxiumum age is  {max(ages)}\")\n",
        "print(f\"the maxiumum age is  {min(ages)}\")\n",
        "\n"
      ],
      "metadata": {
        "colab": {
          "base_uri": "https://localhost:8080/"
        },
        "id": "86KUdZJwABo4",
        "outputId": "9f64cfc6-f16b-461e-d6d5-fabe28c9f15b"
      },
      "execution_count": 21,
      "outputs": [
        {
          "output_type": "stream",
          "name": "stdout",
          "text": [
            "enter a age  10\n",
            "enter a age  20\n",
            "enter a age  60\n",
            "the maxiumum age is  .60\n",
            "the maxiumum age is  .10\n"
          ]
        }
      ]
    },
    {
      "cell_type": "code",
      "source": [
        "sum = 0\n",
        "\n",
        "while True:\n",
        "    try:\n",
        "        # Ask the user to enter a number\n",
        "        number = float(input(\"Enter a number: \"))\n",
        "        # Check if the number is negative\n",
        "        if number < 0:\n",
        "            print(\"You entered a negative number. Exiting the loop.\")\n",
        "            break\n",
        "        else:\n",
        "            sum += number\n",
        "    except ValueError:\n",
        "        print(\"Invalid input. Please enter a valid number.\")\n",
        "\n",
        "print(f\"The sum of the positive numbers is {sum}.\")"
      ],
      "metadata": {
        "colab": {
          "base_uri": "https://localhost:8080/"
        },
        "id": "ozMHt7kgDiGA",
        "outputId": "7f1fead7-89af-48b0-e1f6-27ca5729c566"
      },
      "execution_count": 23,
      "outputs": [
        {
          "output_type": "stream",
          "name": "stdout",
          "text": [
            "Enter a number: -10\n",
            "You entered a negative number. Exiting the loop.\n",
            "The sum of the positive numbers is 0.\n"
          ]
        }
      ]
    },
    {
      "cell_type": "code",
      "source": [
        "name = input(\"Please enter your name: \")\n",
        "\n",
        "try:\n",
        "    age = int(input(\"Please enter your age: \"))\n",
        "\n",
        "    if age >= 18:\n",
        "        print(f\"{name}, you are eligible to vote.\")\n",
        "    else:\n",
        "        print(f\"{name}, you are not eligible to vote due to being underage.\")\n",
        "except ValueError:\n",
        "    print(\"Invalid input. Please enter a valid age.\")"
      ],
      "metadata": {
        "colab": {
          "base_uri": "https://localhost:8080/"
        },
        "id": "b8QS34BpGPig",
        "outputId": "012c0237-86a9-4402-f179-6dc0b1630b34"
      },
      "execution_count": 27,
      "outputs": [
        {
          "output_type": "stream",
          "name": "stdout",
          "text": [
            "Please enter your name: 18\n",
            "Please enter your age: 20\n",
            "18, you are eligible to vote.\n"
          ]
        }
      ]
    },
    {
      "cell_type": "code",
      "source": [
        "def factorial_recursive(n):\n",
        "    if n < 0:\n",
        "        return \"Factorial is not defined for negative numbers.\"\n",
        "    elif n == 0 or n == 1:\n",
        "        return 1\n",
        "    else:\n",
        "        return n * factorial_recursive(n - 1)\n",
        "\n",
        "number = int(input(\"Enter a number to find factorial: \"))\n",
        "print(f\"The factorial of {number} is {factorial_recursive(number)}\")"
      ],
      "metadata": {
        "colab": {
          "base_uri": "https://localhost:8080/"
        },
        "id": "M03v960uGa_d",
        "outputId": "76936e4f-da87-42f2-8ca5-f9539631d9f7"
      },
      "execution_count": 26,
      "outputs": [
        {
          "output_type": "stream",
          "name": "stdout",
          "text": [
            "Enter a number to find factorial: 6\n",
            "The factorial of 6 is 720\n"
          ]
        }
      ]
    }
  ]
}