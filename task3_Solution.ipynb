{
  "cells": [
    {
      "cell_type": "markdown",
      "source": [
        "Third task in ai dipmola\n",
        ">Ahmed mohamed shaker\n",
        "\n",
        "\n"
      ],
      "metadata": {
        "id": "RyQlOcRCM4Mg"
      },
      "id": "RyQlOcRCM4Mg"
    },
    {
      "cell_type": "markdown",
      "id": "ff38aad7",
      "metadata": {
        "id": "ff38aad7"
      },
      "source": [
        "### 1-Write a Python program that takes two numbers as user input and performs addition on them."
      ]
    },
    {
      "cell_type": "code",
      "execution_count": null,
      "id": "91696b79",
      "metadata": {
        "id": "91696b79",
        "colab": {
          "base_uri": "https://localhost:8080/"
        },
        "outputId": "af6c7b8d-0019-4376-b833-1f1f5a376ae5"
      },
      "outputs": [
        {
          "output_type": "stream",
          "name": "stdout",
          "text": [
            "enter a first number5\n",
            "enter a second number6\n",
            "11\n"
          ]
        }
      ],
      "source": [
        "number1=int(input(\"enter a first number\"))\n",
        "number2=int(input(\"enter a second number\"))\n",
        "print(number1+number2)"
      ]
    },
    {
      "cell_type": "markdown",
      "id": "360854ff",
      "metadata": {
        "id": "360854ff"
      },
      "source": [
        "### 2-Write a Python program that takes an integer as input and checks if it is even or odd. Print \"Even\" if the number is divisible by 2, otherwise print \"Odd\"."
      ]
    },
    {
      "cell_type": "code",
      "execution_count": null,
      "id": "ee4c35fe",
      "metadata": {
        "ExecuteTime": {
          "end_time": "2023-07-23T21:35:24.351946Z",
          "start_time": "2023-07-23T21:35:23.287212Z"
        },
        "id": "ee4c35fe",
        "colab": {
          "base_uri": "https://localhost:8080/"
        },
        "outputId": "17b70c87-8acb-4205-9335-c50ae1501672"
      },
      "outputs": [
        {
          "output_type": "stream",
          "name": "stdout",
          "text": [
            "ENTER A NUMBER:15\n",
            "ODD\n"
          ]
        }
      ],
      "source": [
        "number=int(input(\"ENTER A NUMBER:\"))\n",
        "if number%2==0:\n",
        "  print(\"EVEN\")\n",
        "else:\n",
        "  print(\"ODD\")"
      ]
    },
    {
      "cell_type": "code",
      "execution_count": null,
      "id": "24616afc",
      "metadata": {
        "id": "24616afc"
      },
      "outputs": [],
      "source": []
    },
    {
      "cell_type": "markdown",
      "id": "6ea0354c",
      "metadata": {
        "id": "6ea0354c"
      },
      "source": [
        "### 3-Write a Python program that prints all the even numbers from 1 to 20 using a for loop"
      ]
    },
    {
      "cell_type": "code",
      "execution_count": null,
      "id": "df43b7f5",
      "metadata": {
        "ExecuteTime": {
          "end_time": "2023-07-23T21:36:51.373589Z",
          "start_time": "2023-07-23T21:36:51.365580Z"
        },
        "id": "df43b7f5",
        "colab": {
          "base_uri": "https://localhost:8080/"
        },
        "outputId": "19dc4481-66b2-4c37-d23f-49ba7f10654f"
      },
      "outputs": [
        {
          "output_type": "stream",
          "name": "stdout",
          "text": [
            "2\n",
            "4\n",
            "6\n",
            "8\n",
            "10\n",
            "12\n",
            "14\n",
            "16\n",
            "18\n",
            "20\n"
          ]
        }
      ],
      "source": [
        "for i in range(1,21):\n",
        "  if i%2==0:\n",
        "    print(i)"
      ]
    },
    {
      "cell_type": "markdown",
      "source": [
        "### 4-Write a Python function that takes a string as input and counts the number of vowels (a, e, i, o, u) in the string. The function should return the count\n"
      ],
      "metadata": {
        "id": "svTTE4mu0IUq"
      },
      "id": "svTTE4mu0IUq"
    },
    {
      "cell_type": "code",
      "execution_count": null,
      "id": "2eb8e4de",
      "metadata": {
        "ExecuteTime": {
          "end_time": "2023-07-23T23:56:27.324204Z",
          "start_time": "2023-07-23T23:56:26.972092Z"
        },
        "id": "2eb8e4de",
        "colab": {
          "base_uri": "https://localhost:8080/"
        },
        "outputId": "aa4a3c3c-e312-47d9-beb3-c0fcf7b5b312"
      },
      "outputs": [
        {
          "output_type": "stream",
          "name": "stdout",
          "text": [
            "enter a word:ahmed\n",
            "a\n",
            "e\n",
            "2\n"
          ]
        }
      ],
      "source": [
        "word=input(\"enter a word:\")\n",
        "vowels=\"aeiouAEIOU\"\n",
        "count=0\n",
        "for i in word:\n",
        "  if i in vowels:\n",
        "    print(i)\n",
        "    count+=1\n",
        "print(count)"
      ]
    },
    {
      "cell_type": "code",
      "execution_count": null,
      "id": "24105679",
      "metadata": {
        "ExecuteTime": {
          "end_time": "2023-07-23T21:43:41.353283Z",
          "start_time": "2023-07-23T21:43:41.332496Z"
        },
        "id": "24105679",
        "colab": {
          "base_uri": "https://localhost:8080/"
        },
        "outputId": "821c6426-cf74-4545-ecb1-a0c13d017b21"
      },
      "outputs": [
        {
          "output_type": "stream",
          "name": "stdout",
          "text": [
            "enter a word:shaker\n",
            "a\n",
            "e\n",
            "2\n"
          ]
        }
      ],
      "source": [
        "def string_vowel(word):\n",
        "  vowels=\"aeiouAEIOU\"\n",
        "  count=0\n",
        "  for i in word:\n",
        "    if i in vowels:\n",
        "      print(i)\n",
        "      count+=1\n",
        "  return count\n",
        "string_word=input(\"enter a word:\")\n",
        "cout_v=string_vowel(string_word)\n",
        "print(cout_v)"
      ]
    },
    {
      "cell_type": "markdown",
      "id": "a9a0ea06",
      "metadata": {
        "id": "a9a0ea06"
      },
      "source": [
        "### 5-Write a Python program that creates a list of numbers from 1 to 10. Use a loop to iterate over the list and print each number of power 2."
      ]
    },
    {
      "cell_type": "code",
      "execution_count": null,
      "id": "6fa658cf",
      "metadata": {
        "ExecuteTime": {
          "end_time": "2023-07-23T21:48:02.328880Z",
          "start_time": "2023-07-23T21:48:02.314313Z"
        },
        "id": "6fa658cf",
        "colab": {
          "base_uri": "https://localhost:8080/"
        },
        "outputId": "ca405380-0070-4a97-eff7-3d1903d12d28"
      },
      "outputs": [
        {
          "output_type": "stream",
          "name": "stdout",
          "text": [
            "1 the square is : 1\n",
            "2 the square is : 4\n",
            "3 the square is : 9\n",
            "4 the square is : 16\n",
            "5 the square is : 25\n",
            "6 the square is : 36\n",
            "7 the square is : 49\n",
            "8 the square is : 64\n",
            "9 the square is : 81\n",
            "10 the square is : 100\n"
          ]
        }
      ],
      "source": [
        "num=[1,2,3,4,5,6,7,8,9,10]\n",
        "for i in num:\n",
        "  print(f'{i} the square is : {i**2}')"
      ]
    },
    {
      "cell_type": "code",
      "source": [],
      "metadata": {
        "id": "jVyCxkfQ5Fda"
      },
      "id": "jVyCxkfQ5Fda",
      "execution_count": null,
      "outputs": []
    },
    {
      "cell_type": "markdown",
      "id": "430c9df9",
      "metadata": {
        "id": "430c9df9"
      },
      "source": [
        "### 6-Write a Python program that calculates the average grade for a student based on their scores in different subjects. The program should include the following steps:\n",
        "\n",
        "#### 1-Create variables to store the student's name, subject names, and corresponding scores. Initialize the variables with sample data.\n",
        "\n",
        "#### 2-Prompt the user to enter the student's name and assign it to the name variable.\n",
        "\n",
        "#### 3-Use a loop to prompt the user to enter the subject names and corresponding scores. Store the subject names in a list and the scores in another list.\n",
        "\n",
        "#### 4-After collecting the scores, calculate the average grade by summing up all the scores and dividing by the total number of subjects.\n",
        "\n",
        "#### 5-Check if the average grade is above a 70, print a congratulatory message. Otherwise, print an encouragement message.\n"
      ]
    },
    {
      "cell_type": "code",
      "execution_count": null,
      "id": "e0254271",
      "metadata": {
        "ExecuteTime": {
          "end_time": "2023-07-15T16:16:17.066909Z",
          "start_time": "2023-07-15T16:16:07.636799Z"
        },
        "id": "e0254271"
      },
      "outputs": [],
      "source": [
        "subjects = []\n",
        "scores = []\n",
        "student_name = input(\"Enter the student's name: \")\n",
        "num_subjects = int(input(\"How many subjects? \"))\n",
        "\n",
        "for _ in range(num_subjects):\n",
        "    subject = input(\"Enter the subject name: \")\n",
        "    score = float(input(f\"Enter the score for {subject}: \"))\n",
        "    subjects.append(subject)\n",
        "    scores.append(score)\n",
        "\n",
        "average_grade = sum(scores) / len(scores)\n",
        "\n",
        "print(f\"\\nAverage grade for {student_name}: {average_grade:.2f}\")\n",
        "\n",
        "if average_grade > 70:\n",
        "    print(\"passed.\")\n",
        "else:\n",
        "    print(\"faield.\")"
      ]
    },
    {
      "cell_type": "code",
      "execution_count": null,
      "id": "37b3ff97",
      "metadata": {
        "ExecuteTime": {
          "end_time": "2023-07-23T21:56:24.493717Z",
          "start_time": "2023-07-23T21:56:17.227071Z"
        },
        "id": "37b3ff97"
      },
      "outputs": [],
      "source": []
    },
    {
      "cell_type": "markdown",
      "id": "ae9df360",
      "metadata": {
        "id": "ae9df360"
      },
      "source": [
        "### 7-Find Common Elements\n",
        "### Write a Python function that takes two lists as input and returns a new list containing the common elements present in both lists."
      ]
    },
    {
      "cell_type": "code",
      "execution_count": null,
      "id": "d030c3c0",
      "metadata": {
        "ExecuteTime": {
          "end_time": "2023-07-23T22:08:16.794474Z",
          "start_time": "2023-07-23T22:08:16.775639Z"
        },
        "id": "d030c3c0"
      },
      "outputs": [],
      "source": []
    },
    {
      "cell_type": "code",
      "execution_count": null,
      "id": "371369cd",
      "metadata": {
        "ExecuteTime": {
          "end_time": "2023-07-23T23:56:27.326200Z",
          "start_time": "2023-07-23T23:56:27.326200Z"
        },
        "id": "371369cd"
      },
      "outputs": [],
      "source": [
        "list3"
      ]
    },
    {
      "cell_type": "markdown",
      "id": "9a2f34cb",
      "metadata": {
        "id": "9a2f34cb"
      },
      "source": [
        "### 8-Write a Python function that takes a list of numbers and an element to remove from the list.\n",
        "*   List item\n",
        "*   List item\n",
        "\n",
        "remove from the list."
      ]
    },
    {
      "cell_type": "code",
      "execution_count": null,
      "id": "78de9fe8",
      "metadata": {
        "ExecuteTime": {
          "end_time": "2023-07-23T22:21:36.514592Z",
          "start_time": "2023-07-23T22:21:36.505437Z"
        },
        "id": "78de9fe8"
      },
      "outputs": [],
      "source": [
        "def remove_element_inplace(numbers_list, element):\n",
        "\n",
        "    while element in numbers_list:\n",
        "        numbers_list.remove(element)\n",
        "    return numbers_list"
      ]
    },
    {
      "cell_type": "code",
      "source": [],
      "metadata": {
        "id": "xhekTXyj7zJp"
      },
      "id": "xhekTXyj7zJp",
      "execution_count": null,
      "outputs": []
    },
    {
      "cell_type": "markdown",
      "id": "f1658f3b",
      "metadata": {
        "ExecuteTime": {
          "end_time": "2023-07-23T22:18:08.230185Z",
          "start_time": "2023-07-23T22:18:08.224220Z"
        },
        "id": "f1658f3b"
      },
      "source": [
        "### 9-Given 4 numbers A, B, C and D. Print the last 2 digits from their Multiplication.\n",
        "### Example :\n",
        "### the Multiplication of 4 numbers is 5 * 7 * 2 * 4 = 280 so the answer will be the last 2 digits which are 80."
      ]
    },
    {
      "cell_type": "code",
      "execution_count": 1,
      "id": "e3acbe03",
      "metadata": {
        "ExecuteTime": {
          "end_time": "2023-07-23T22:26:11.183016Z",
          "start_time": "2023-07-23T22:26:03.981069Z"
        },
        "id": "e3acbe03",
        "colab": {
          "base_uri": "https://localhost:8080/"
        },
        "outputId": "4908f5e2-2d8d-4a59-9bec-7ec0a07a4d19"
      },
      "outputs": [
        {
          "output_type": "stream",
          "name": "stdout",
          "text": [
            "enter number 1 10\n",
            "enter number 2 20\n",
            "enter number 3 30\n",
            "enter number 4 40\n",
            "multiplication = 240000\n",
            "last 2 digit = 00\n"
          ]
        }
      ],
      "source": [
        "A=int(input(\"enter number 1 \"))\n",
        "B=int(input(\"enter number 2 \"))\n",
        "C=int(input(\"enter number 3 \"))\n",
        "D=int(input(\"enter number 4 \"))\n",
        "mul=A*B*C*D\n",
        "last_digits=str(mul)[-2:]\n",
        "print(\"multiplication =\",mul)\n",
        "print(\"last 2 digit =\",last_digits)"
      ]
    },
    {
      "cell_type": "markdown",
      "id": "d7ab15bb",
      "metadata": {
        "ExecuteTime": {
          "end_time": "2023-07-23T22:26:14.833712Z",
          "start_time": "2023-07-23T22:26:14.819130Z"
        },
        "id": "d7ab15bb"
      },
      "source": [
        "### 10- Given a number X. Determine if the number is prime or not"
      ]
    },
    {
      "cell_type": "code",
      "execution_count": 2,
      "id": "59b27f0a",
      "metadata": {
        "ExecuteTime": {
          "end_time": "2023-07-23T22:35:25.933766Z",
          "start_time": "2023-07-23T22:35:24.168681Z"
        },
        "id": "59b27f0a",
        "colab": {
          "base_uri": "https://localhost:8080/"
        },
        "outputId": "bd1f0d98-1ec9-4ae6-fbab-dd6aeaa9373c"
      },
      "outputs": [
        {
          "output_type": "stream",
          "name": "stdout",
          "text": [
            "Enter a number: 2\n",
            "2 is a Prime Number.\n"
          ]
        }
      ],
      "source": [
        "X = int(input(\"Enter a number: \"))\n",
        "\n",
        "if X < 1:\n",
        "    print(X, \"is Not a Prime Number.\")\n",
        "else:\n",
        "    for i in range(2, X):\n",
        "        if X % i == 0:\n",
        "            print(X, \"is Not a Prime Number.\")\n",
        "            break\n",
        "    else:\n",
        "       print(X, \"is a Prime Number.\")"
      ]
    },
    {
      "cell_type": "markdown",
      "id": "e1d1dcf9",
      "metadata": {
        "id": "e1d1dcf9"
      },
      "source": [
        "### 11- Given a number N and a list A of N numbers. Determine if the number X exists in array A or not and print its position (0-index)."
      ]
    },
    {
      "cell_type": "code",
      "execution_count": 3,
      "id": "2b002b0e",
      "metadata": {
        "ExecuteTime": {
          "end_time": "2023-07-23T22:53:41.474835Z",
          "start_time": "2023-07-23T22:53:41.458293Z"
        },
        "id": "2b002b0e",
        "colab": {
          "base_uri": "https://localhost:8080/"
        },
        "outputId": "753caa0d-fb21-469e-c6ff-ecc314daf424"
      },
      "outputs": [
        {
          "output_type": "stream",
          "name": "stdout",
          "text": [
            "Enter Counter of list: 3\n",
            "Enter element 1: 5\n",
            "Enter element 2: 7\n",
            "Enter element 3: 9\n",
            "Enter number to check: 7\n",
            "Number exists at index 1\n"
          ]
        }
      ],
      "source": [
        "A = []\n",
        "N = int(input(\"Enter Counter of list: \"))\n",
        "for i in range(N):\n",
        "    num = int(input(f\"Enter element {i + 1}: \"))\n",
        "    A.append(num)\n",
        "x = int(input(\"Enter number to check: \"))\n",
        "\n",
        "if x in A:\n",
        "    print(\"Number exists at index\", A.index(x))\n",
        "else:\n",
        "    print(\"Number does not exist\")"
      ]
    },
    {
      "cell_type": "markdown",
      "id": "f2ec854b",
      "metadata": {
        "id": "f2ec854b"
      },
      "source": [
        "### 12- Given a number N and a list A of N numbers. Determine if the array is lucky or not.\n",
        "\n",
        "#### Note: the array is lucky if the frequency (number of occurrence) of the minimum element is odd."
      ]
    },
    {
      "cell_type": "code",
      "source": [
        "A = []\n",
        "N = int(input(\"Enter Counter of list: \"))\n",
        "for i in range(N):\n",
        "    num = int(input(f\"Enter element {i + 1}: \"))\n",
        "    A.append(num)\n",
        "x = int(input(\"Enter number to check: \"))\n",
        "\n",
        "if x in A:\n",
        "    print(\"Number exists at index\", A.index(x))\n",
        "else:\n",
        "    print(\"Number does not exist\")\n",
        "N = int(input(\"Enter Counter of list: \"))\n",
        "A = []\n",
        "\n",
        "for i in range(N):\n",
        "    num = int(input(f\"Enter element {i + 1}: \"))\n",
        "    A.append(num)\n",
        "min=0\n",
        "for i in range(1, N):\n",
        "    if A[i] < A[min]:\n",
        "        min = i\n",
        "\n",
        "min_count = 0\n",
        "for i in range(N):\n",
        "    if A[i] == A[min]:\n",
        "        min_count += 1\n",
        "\n",
        "if min_count % 2 == 0:\n",
        "    print(\"The array is not lucky.\")\n",
        "else:\n",
        "    print(\"The array is lucky.\")"
      ],
      "metadata": {
        "id": "inKv_RXlKBv1"
      },
      "id": "inKv_RXlKBv1",
      "execution_count": null,
      "outputs": []
    },
    {
      "cell_type": "markdown",
      "id": "e1ce1ae5",
      "metadata": {
        "id": "e1ce1ae5"
      },
      "source": [
        "### 13-Given a number N and a list A of N numbers. Print the array after doing the following operations:\n",
        "\n",
        "#### Find minimum number in these numbers.\n",
        "#### Find maximum number in these numbers.\n",
        "##### Swap minimum number with maximum number."
      ]
    },
    {
      "cell_type": "code",
      "execution_count": 6,
      "id": "e0d6e639",
      "metadata": {
        "ExecuteTime": {
          "end_time": "2023-07-23T23:10:04.293733Z",
          "start_time": "2023-07-23T23:10:04.280256Z"
        },
        "id": "e0d6e639",
        "colab": {
          "base_uri": "https://localhost:8080/"
        },
        "outputId": "75c46f17-355b-4595-9c5d-3732b67b30ef"
      },
      "outputs": [
        {
          "output_type": "stream",
          "name": "stdout",
          "text": [
            "Enter Counter of list: 3\n",
            "Enter element 1: 5\n",
            "Enter element 2: 7\n",
            "Enter element 3: 9\n",
            "Array: [5, 7, 9]\n",
            "Minimum number: 5\n",
            "Maximum number: 9\n",
            "Array after swapping min and max: [9, 7, 5]\n"
          ]
        }
      ],
      "source": [
        "N = int(input(\"Enter Counter of list: \"))\n",
        "A = []\n",
        "\n",
        "for i in range(N):\n",
        "    num = int(input(f\"Enter element {i + 1}: \"))\n",
        "    A.append(num)\n",
        "min = 0\n",
        "max = 0\n",
        "\n",
        "for i in range(1, N):\n",
        "    if A[i] < A[min]:\n",
        "        min = i\n",
        "    if A[i] > A[max]:\n",
        "        max = i\n",
        "\n",
        "print(\"Array:\", A)\n",
        "print(\"Minimum number:\", A[min])\n",
        "print(\"Maximum number:\", A[max])\n",
        "\n",
        "temp = A[min]\n",
        "A[min] = A[max]\n",
        "A[max] = temp\n",
        "\n",
        "print(\"Array after swapping min and max:\", A)"
      ]
    },
    {
      "cell_type": "markdown",
      "id": "9eb8e9c5",
      "metadata": {
        "ExecuteTime": {
          "end_time": "2023-07-23T23:10:06.436833Z",
          "start_time": "2023-07-23T23:10:06.422086Z"
        },
        "id": "9eb8e9c5"
      },
      "source": [
        "### 14-Given a number N and an array A of N numbers. Print the lowest number and its position.\n",
        "\n",
        "### Note: if there are more than one answer print first one's position."
      ]
    },
    {
      "cell_type": "code",
      "execution_count": 7,
      "id": "018e01c8",
      "metadata": {
        "ExecuteTime": {
          "end_time": "2023-07-23T23:20:38.498527Z",
          "start_time": "2023-07-23T23:20:38.490451Z"
        },
        "id": "018e01c8",
        "colab": {
          "base_uri": "https://localhost:8080/"
        },
        "outputId": "c73e61e3-2828-40ab-a035-c2b136ab8356"
      },
      "outputs": [
        {
          "output_type": "stream",
          "name": "stdout",
          "text": [
            "Enter Counter of list: 3\n",
            "Enter element 1: 5\n",
            "Enter element 2: 7\n",
            "Enter element 3: 5\n",
            "Lowest number: 5\n",
            "Position of lowest number: 0\n"
          ]
        }
      ],
      "source": [
        "\n",
        "N = int(input(\"Enter Counter of list: \"))\n",
        "A = []\n",
        "\n",
        "for i in range(N):\n",
        "    num = int(input(f\"Enter element {i + 1}: \"))\n",
        "    A.append(num)\n",
        "\n",
        "min = 0\n",
        "\n",
        "for i in range(1, N):\n",
        "    if A[i] < A[min]:\n",
        "        min = i\n",
        "\n",
        "print(\"Lowest number:\", A[min])\n",
        "print(\"Position of lowest number:\", min)"
      ]
    },
    {
      "cell_type": "markdown",
      "id": "f35d3427",
      "metadata": {
        "ExecuteTime": {
          "end_time": "2023-07-23T23:20:55.880128Z",
          "start_time": "2023-07-23T23:20:55.861804Z"
        },
        "id": "f35d3427"
      },
      "source": [
        "### 15-Given a number N and an array A of N numbers. Print the numbers after sorting them"
      ]
    },
    {
      "cell_type": "code",
      "execution_count": 8,
      "id": "a6e0edd4",
      "metadata": {
        "ExecuteTime": {
          "end_time": "2023-07-23T23:46:13.340484Z",
          "start_time": "2023-07-23T23:46:13.324468Z"
        },
        "id": "a6e0edd4",
        "colab": {
          "base_uri": "https://localhost:8080/"
        },
        "outputId": "020cad67-c952-4bca-d080-dcccf2aa201a"
      },
      "outputs": [
        {
          "output_type": "stream",
          "name": "stdout",
          "text": [
            "Enter Counter of list: 3\n",
            "Enter element 1: 10\n",
            "Enter element 2: 20\n",
            "Enter element 3: 30\n",
            "Sorted array: 10 20 30\n"
          ]
        }
      ],
      "source": [
        "N = int(input(\"Enter Counter of list: \"))\n",
        "A = []\n",
        "\n",
        "for i in range(N):\n",
        "    num = int(input(f\"Enter element {i + 1}: \"))\n",
        "    A.append(num)\n",
        "\n",
        "for i in range(N - 1):\n",
        "    for j in range(N - 1 - i):\n",
        "        if A[j] > A[j + 1]:\n",
        "            A[j], A[j + 1] = A[j + 1], A[j]\n",
        "\n",
        "print(\"Sorted array:\",*A)"
      ]
    },
    {
      "cell_type": "markdown",
      "id": "a172f354",
      "metadata": {
        "ExecuteTime": {
          "end_time": "2023-07-23T23:46:15.127981Z",
          "start_time": "2023-07-23T23:46:15.108766Z"
        },
        "id": "a172f354"
      },
      "source": [
        "### 16- Write a Python program to remove spaces from a given string"
      ]
    },
    {
      "cell_type": "code",
      "source": [
        "X=input(\"enter string \")\n",
        "new_string=X.replace(\" \",\"\")\n",
        "print(\"String without spaces:\", new_string)\n",
        "\n",
        "print(\"\")\n",
        "y = input(\"enter a string \")\n",
        "new_y = \"\"\n",
        "\n",
        "for i in y:\n",
        "    if i != \" \":\n",
        "        new_y += i\n",
        "\n",
        "print(\"String without spaces:\",new_y)"
      ],
      "metadata": {
        "id": "3Ey5ide2MkeS"
      },
      "id": "3Ey5ide2MkeS",
      "execution_count": null,
      "outputs": []
    },
    {
      "cell_type": "markdown",
      "id": "a5470d49",
      "metadata": {
        "id": "a5470d49"
      },
      "source": [
        "### 17-write a Python program to swap first and last element of any list."
      ]
    },
    {
      "cell_type": "code",
      "execution_count": 12,
      "id": "9d73887b",
      "metadata": {
        "ExecuteTime": {
          "end_time": "2023-07-23T23:50:59.283429Z",
          "start_time": "2023-07-23T23:50:59.272096Z"
        },
        "id": "9d73887b",
        "colab": {
          "base_uri": "https://localhost:8080/"
        },
        "outputId": "5e0c5ff4-b5cb-49be-df46-490d44ffb772"
      },
      "outputs": [
        {
          "output_type": "stream",
          "name": "stdout",
          "text": [
            "Enter Counter of list: 3\n",
            "Enter element 1: 5\n",
            "Enter element 2: 4\n",
            "Enter element 3: 9\n",
            "list elements [5, 4, 9]\n",
            "swapped list [9, 4, 5]\n"
          ]
        }
      ],
      "source": [
        "N = int(input(\"Enter Counter of list: \"))\n",
        "A = []\n",
        "for i in range(N):\n",
        "    num = int(input(f\"Enter element {i + 1}: \"))\n",
        "    A.append(num)\n",
        "print(\"list elements\",A)\n",
        "temp=A[0]\n",
        "A[0]=A[N-1]\n",
        "A[N-1]=temp\n",
        "print(\"swapped list\",A)"
      ]
    },
    {
      "cell_type": "markdown",
      "source": [
        "# **Write a Python Program to Find HCF.**\n",
        "## Highest Common Factor(HCF): HCF, or Highest Common Factor, is the largest positive integer that divides two or more numbers without leaving a remainder. Formula: For two numbers a and b, the HCF can be found using the formula:\n",
        "\n",
        "** HCF(𝑎, 𝑏) = GCD(𝑎, 𝑏)**\n",
        "For more than two numbers, you can find the HCF by taking the GCD of pairs of numbers at a time until you reach the last pair.\n",
        "\n",
        "# **Note: GCD stands for Greatest Common Divisor, use function.**\n"
      ],
      "metadata": {
        "id": "iS6JiE4uPbyH"
      },
      "id": "iS6JiE4uPbyH"
    },
    {
      "cell_type": "code",
      "source": [
        "N = int(input(\"Enter the number of elements: \"))\n",
        "A = []\n",
        "\n",
        "for i in range(N):\n",
        "    num = int(input(f\"Enter number {i + 1}: \"))\n",
        "    A.append(num)\n",
        "\n",
        "hcf = A[0]\n",
        "\n",
        "for i in range(1, N):\n",
        "    a = hcf\n",
        "    b = A[i]\n",
        "\n",
        "\n",
        "    while b != 0:\n",
        "        remainder = a % b\n",
        "        a = b\n",
        "        b = remainder\n",
        "\n",
        "    hcf = a\n",
        "\n",
        "print(\"HCF Of List numbers:\",hcf)"
      ],
      "metadata": {
        "id": "9qUfYf0wPnvt"
      },
      "id": "9qUfYf0wPnvt",
      "execution_count": null,
      "outputs": []
    }
  ],
  "metadata": {
    "kernelspec": {
      "display_name": "Python 3 (ipykernel)",
      "language": "python",
      "name": "python3"
    },
    "language_info": {
      "codemirror_mode": {
        "name": "ipython",
        "version": 3
      },
      "file_extension": ".py",
      "mimetype": "text/x-python",
      "name": "python",
      "nbconvert_exporter": "python",
      "pygments_lexer": "ipython3",
      "version": "3.9.12"
    },
    "colab": {
      "provenance": []
    }
  },
  "nbformat": 4,
  "nbformat_minor": 5
}