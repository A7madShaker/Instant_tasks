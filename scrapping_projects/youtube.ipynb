{
 "cells": [
  {
   "cell_type": "code",
   "execution_count": 2,
   "id": "7cd72aaf",
   "metadata": {},
   "outputs": [
    {
     "name": "stdout",
     "output_type": "stream",
     "text": [
      "لم يتم العثور على قنوات. تحقق من تسجيل الدخول أو هيكلية الصفحة.\n",
      "مصدر الصفحة: <html lang=\"en\" dir=\"ltr\" class=\"eC9N2e\"><head><base href=\"https://accounts.google.com/v3/signin/\"><link rel=\"preconnect\" href=\"//www.gstatic.com\"><meta name=\"referrer\" content=\"origin\"><script data-id=\"_gd\" nonce=\"\">window.WIZ_global_data = {\"DndLYb\":\"\",\"DpimGf\":false,\"EP1ykd\":[\"/_/*\"],\"EaOSAe\":\"https://kidsmanagement-pa.googleapis.com\",\"FdrFJe\":\"648584764729877398\",\"FoW6je\":false,\"GWsdKe\":\"en\",\"Im6cmf\":\"/v3/signin/_/AccountsSignInUi\",\"LVIXXb\":1,\"LoQv7e\":true,\"MT7f9b\":[],\"MUE6Ne\":\"AccountsSignInUi\",\"Mypbod\":\"https://www.googleapis.com/reauth\",\"QrtxK\":\"\",\"Qzxixc\":\"S-2028741697:1746282398723287\",\"S06Grb\":\"\",\"S6lZl\":128566913,\"SNlM0e\":\"ACOC1zCJAuQOMRIcRy0Rv7aRbYhV:1746282398821\",\"TSDtV\":\"%.@.[[null,[[45450723,null,false,null,null,null,\\\"XQkE7e\\\"],[45453809,null,false,null,null,null,\\\"D1bn1b\\\"],[45451649,null,true,null,null,null,\\\"LeUU4b\\\"],[45651384,null,true,null,null,null,\\\"GmAFDc\\\"],[45682322,null,false,null,null,null,\\\"HgjJSe\\\"],[45451922,null,false,null,null,null,\\\"TFYsbf\\\"],[456470\n"
     ]
    }
   ],
   "source": [
    "from bs4 import BeautifulSoup\n",
    "from selenium import webdriver\n",
    "from selenium.webdriver.chrome.service import Service\n",
    "from webdriver_manager.chrome import ChromeDriverManager\n",
    "import time\n",
    "\n",
    "# إعداد متصفح Selenium\n",
    "options = webdriver.ChromeOptions()\n",
    "driver = webdriver.Chrome(service=Service(ChromeDriverManager().install()), options=options)\n",
    "\n",
    "try:\n",
    "    # الانتقال إلى صفحة القنوات\n",
    "    url = \"https://www.youtube.com/feed/channels\"\n",
    "    driver.get(url)\n",
    "\n",
    "    # انتظار تحميل الصفحة\n",
    "    time.sleep(10)  # زيادة الوقت لضمان التحميل\n",
    "\n",
    "    # الحصول على مصدر الصفحة\n",
    "    page_source = driver.page_source\n",
    "    soup = BeautifulSoup(page_source, \"html.parser\")\n",
    "\n",
    "    # البحث عن روابط القنوات\n",
    "    subs = soup.find_all(\"a\", class_=\"yt-simple-endpoint style-scope ytd-channel-renderer\")\n",
    "\n",
    "    # إذا لم يتم العثور على قنوات\n",
    "    if not subs:\n",
    "        print(\"لم يتم العثور على قنوات. تحقق من تسجيل الدخول أو هيكلية الصفحة.\")\n",
    "        print(\"مصدر الصفحة:\", page_source[:1000])  # طباعة جزء من مصدر الصفحة للتصحيح\n",
    "    else:\n",
    "        # استخراج أسماء القنوات\n",
    "        for sub in subs:\n",
    "            name = sub.find(\"span\", class_=\"style-scope ytd-channel-name\")\n",
    "            if name:\n",
    "                print(name.text.strip())\n",
    "            else:\n",
    "                print(\"لم يتم العثور على اسم القناة في هذا العنصر.\")\n",
    "\n",
    "finally:\n",
    "    # إغلاق المتصفح\n",
    "    driver.quit()"
   ]
  },
  {
   "cell_type": "code",
   "execution_count": null,
   "id": "03ba9d62",
   "metadata": {},
   "outputs": [],
   "source": []
  }
 ],
 "metadata": {
  "kernelspec": {
   "display_name": "Python 3 (ipykernel)",
   "language": "python",
   "name": "python3"
  },
  "language_info": {
   "codemirror_mode": {
    "name": "ipython",
    "version": 3
   },
   "file_extension": ".py",
   "mimetype": "text/x-python",
   "name": "python",
   "nbconvert_exporter": "python",
   "pygments_lexer": "ipython3",
   "version": "3.9.7"
  }
 },
 "nbformat": 4,
 "nbformat_minor": 5
}
