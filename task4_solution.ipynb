{
  "cells": [
    {
      "cell_type": "markdown",
      "id": "759d04ba",
      "metadata": {
        "id": "759d04ba"
      },
      "source": [
        "**1-Write a Python program to calculate the length of a string using 2 ways"
      ]
    },
    {
      "cell_type": "code",
      "execution_count": null,
      "id": "e434c950",
      "metadata": {
        "id": "e434c950",
        "colab": {
          "base_uri": "https://localhost:8080/"
        },
        "outputId": "2405e749-8b94-4f88-8805-e21462a4c2f8"
      },
      "outputs": [
        {
          "output_type": "stream",
          "name": "stdout",
          "text": [
            "enter your name :ahmed shaker\n",
            "12\n"
          ]
        }
      ],
      "source": [
        "name=input(\"enter your name :\")\n",
        "print(len(name))"
      ]
    },
    {
      "cell_type": "code",
      "execution_count": null,
      "id": "7a2dfa32",
      "metadata": {
        "id": "7a2dfa32",
        "colab": {
          "base_uri": "https://localhost:8080/"
        },
        "outputId": "9bfb7859-83d5-48f7-bab0-c932ffd145c9"
      },
      "outputs": [
        {
          "output_type": "stream",
          "name": "stdout",
          "text": [
            "enter your name :ahmed shaker\n",
            "a\n",
            "h\n",
            "m\n",
            "e\n",
            "d\n",
            " \n",
            "s\n",
            "h\n",
            "a\n",
            "k\n",
            "e\n",
            "r\n",
            "12\n"
          ]
        }
      ],
      "source": [
        "name=input(\"enter your name :\")\n",
        "count=0\n",
        "for i in name:\n",
        "    print(i)\n",
        "    count+=1\n",
        "print(count)"
      ]
    },
    {
      "cell_type": "markdown",
      "id": "d7cc9da7",
      "metadata": {
        "id": "d7cc9da7"
      },
      "source": [
        "**2-Write a Python program to get a string made of the first 2 and last 2 characters of a given string. If the string length is less than 2, return the empty string instead (\"##Sample String : 'w3resource'\n",
        "Expected Result : 'w3ce'\n",
        "##Sample String : 'w3'\n",
        "Expected Result : 'w3w3'\n",
        "##Sample String : ' w'\n",
        "Expected Result : Empty String)"
      ]
    },
    {
      "cell_type": "code",
      "execution_count": null,
      "id": "dafa9dd8",
      "metadata": {
        "id": "dafa9dd8",
        "colab": {
          "base_uri": "https://localhost:8080/"
        },
        "outputId": "2a0cc577-957d-468f-d41e-edc1ea2a70bf"
      },
      "outputs": [
        {
          "output_type": "stream",
          "name": "stdout",
          "text": [
            "enter the word :shaker\n",
            "sher\n"
          ]
        }
      ],
      "source": [
        "x=input(\"enter the word :\")\n",
        "if len(x)<2:\n",
        "    print(\"empty string\")\n",
        "else:\n",
        "    print(x[:2]+x[-2:])"
      ]
    },
    {
      "cell_type": "markdown",
      "id": "1534f956",
      "metadata": {
        "id": "1534f956"
      },
      "source": [
        "**3-Write a Python program to add 'ing' at the end of a given string (length should be at least 3). If the given string already ends with 'ing', add 'ly' instead. If the string length of the given string is less than 3, leave it unchanged. (Sample String : 'abc'\n",
        "Expected Result : 'abcing')"
      ]
    },
    {
      "cell_type": "code",
      "execution_count": null,
      "id": "7ff8cec4",
      "metadata": {
        "id": "7ff8cec4"
      },
      "outputs": [],
      "source": [
        "def word(string):\n",
        "    if len(string) < 3:\n",
        "        return string\n",
        "\n",
        "    if string.endswith(\"ing\"):\n",
        "        return string + \"ly\"\n",
        "\n",
        "    return string + \"ing\""
      ]
    },
    {
      "cell_type": "markdown",
      "id": "1c0a6627",
      "metadata": {
        "id": "1c0a6627"
      },
      "source": [
        "**4-Write a Python function that takes a list of words and return the longest word and the length of the longest one\n",
        "(Longest word: Exercises\n",
        "Length of the longest word: 9)"
      ]
    },
    {
      "cell_type": "code",
      "execution_count": null,
      "id": "397341d9",
      "metadata": {
        "id": "397341d9",
        "colab": {
          "base_uri": "https://localhost:8080/"
        },
        "outputId": "83acbdaa-8c97-4ca1-929b-6f24eaf352a6"
      },
      "outputs": [
        {
          "output_type": "stream",
          "name": "stdout",
          "text": [
            "enter the number of words :4\n",
            "enter the word :ahmed\n",
            "enter the word :mohamed\n",
            "enter the word :shaker\n",
            "enter the word :fahiem\n",
            "['ahmed', 'mohamed', 'shaker', 'fahiem']\n"
          ]
        }
      ],
      "source": [
        "word=[]\n",
        "n=int(input(\"enter the number of words :\"))\n",
        "for i in range(n):\n",
        "    word.append(input(\"enter the word :\"))\n",
        "print(word)"
      ]
    },
    {
      "cell_type": "markdown",
      "id": "53a03a6a",
      "metadata": {
        "id": "53a03a6a"
      },
      "source": [
        "**5-Write a Python program to change a given string to a newly string where the first and last chars have been exchanged using 2 ways (Sample String:abca  Expected Result:ebce)"
      ]
    },
    {
      "cell_type": "code",
      "execution_count": null,
      "id": "fd327d2a",
      "metadata": {
        "id": "fd327d2a",
        "colab": {
          "base_uri": "https://localhost:8080/"
        },
        "outputId": "071a0033-1b6a-47ee-ad71-38913e23f3bd"
      },
      "outputs": [
        {
          "output_type": "stream",
          "name": "stdout",
          "text": [
            "enter the word :shaker\n",
            "rhakes\n"
          ]
        }
      ],
      "source": [
        "x=input(\"enter the word :\")\n",
        "print(x[-1]+x[1:-1]+x[0])"
      ]
    },
    {
      "cell_type": "code",
      "execution_count": null,
      "id": "285788b4",
      "metadata": {
        "id": "285788b4",
        "colab": {
          "base_uri": "https://localhost:8080/"
        },
        "outputId": "cc366fc5-9180-42c1-d3c1-469e56c6526b"
      },
      "outputs": [
        {
          "output_type": "stream",
          "name": "stdout",
          "text": [
            "enter the string :shaker\n",
            "rhakes\n"
          ]
        }
      ],
      "source": [
        "x=input(\"enter the string :\")\n",
        "if len(x)>2:\n",
        "    print(x[-1]+x[1:-1]+x[0])\n",
        "else:\n",
        "    print(x)"
      ]
    },
    {
      "cell_type": "markdown",
      "id": "25f89808",
      "metadata": {
        "id": "25f89808"
      },
      "source": [
        "**6-Write a Python program to remove characters that have odd index values in a given string (Sample String:abca Expected Result:ac)"
      ]
    },
    {
      "cell_type": "code",
      "execution_count": null,
      "id": "05959bd7",
      "metadata": {
        "id": "05959bd7",
        "colab": {
          "base_uri": "https://localhost:8080/"
        },
        "outputId": "5aced12b-51a1-4f81-dad9-ad3ce19e1467"
      },
      "outputs": [
        {
          "output_type": "stream",
          "name": "stdout",
          "text": [
            "enter the string :abca\n",
            "ac\n"
          ]
        }
      ],
      "source": [
        "x=input(\"enter the string :\")\n",
        "print(x[::2])"
      ]
    },
    {
      "cell_type": "markdown",
      "id": "eb16e898",
      "metadata": {
        "id": "eb16e898"
      },
      "source": [
        "**7-Write a Python program to count the occurrences of each word in a given sentence (Sample String:amr and ahmed are frindes but amr is the tallest Expected Result:2)"
      ]
    },
    {
      "cell_type": "code",
      "execution_count": null,
      "id": "01ce6cf5",
      "metadata": {
        "id": "01ce6cf5",
        "colab": {
          "base_uri": "https://localhost:8080/"
        },
        "outputId": "ada37c6c-b2a4-40dc-f8c5-13591a36cb24"
      },
      "outputs": [
        {
          "output_type": "stream",
          "name": "stdout",
          "text": [
            "enter the sentence :amr and ahmed are frindes but amr is the tallest\n",
            "amr 2\n",
            "and 1\n",
            "ahmed 1\n",
            "are 1\n",
            "frindes 1\n",
            "but 1\n",
            "amr 2\n",
            "is 1\n",
            "the 1\n",
            "tallest 1\n"
          ]
        }
      ],
      "source": [
        "x=input(\"enter the sentence :\")\n",
        "word=x.split()\n",
        "for i in word:\n",
        "  print(i,x.count(i))\n"
      ]
    },
    {
      "cell_type": "markdown",
      "id": "4e8125f1",
      "metadata": {
        "id": "4e8125f1"
      },
      "source": [
        "**8-Write a Python script that takes input from the user and displays that input back in upper and lower cases"
      ]
    },
    {
      "cell_type": "code",
      "execution_count": null,
      "id": "66c8f778",
      "metadata": {
        "id": "66c8f778",
        "colab": {
          "base_uri": "https://localhost:8080/"
        },
        "outputId": "61dc795d-845e-404b-e357-22f52439e9cd"
      },
      "outputs": [
        {
          "output_type": "stream",
          "name": "stdout",
          "text": [
            "enter the word :ahmed shaKER\n",
            "AHMED SHAKER\n",
            "ahmed shaker\n"
          ]
        }
      ],
      "source": [
        "x=input(\"enter the word :\")\n",
        "print(x.upper())\n",
        "print(x.lower())"
      ]
    },
    {
      "cell_type": "markdown",
      "id": "fcd68aa1",
      "metadata": {
        "id": "fcd68aa1"
      },
      "source": [
        "**9-Write a Python function to reverse a string if its length is a multiple of 4\n",
        "\n",
        "> Add blockquote\n",
        "\n"
      ]
    },
    {
      "cell_type": "code",
      "execution_count": null,
      "id": "0671a931",
      "metadata": {
        "id": "0671a931",
        "colab": {
          "base_uri": "https://localhost:8080/"
        },
        "outputId": "80523f58-e3dc-4863-83ef-32d1e6e066c0"
      },
      "outputs": [
        {
          "output_type": "stream",
          "name": "stdout",
          "text": [
            "Enter a string: ahmed shaker\n",
            "Reversed string: rekahs demha\n"
          ]
        }
      ],
      "source": [
        "def reverse(string):\n",
        "    if len(string) % 4 == 0:\n",
        "        return string[::-1]\n",
        "    else:\n",
        "        return string\n",
        "\n",
        "input_string = input(\"Enter a string: \")\n",
        "reversed_string = reverse(input_string)\n",
        "print(\"Reversed string:\", reversed_string)"
      ]
    },
    {
      "cell_type": "markdown",
      "id": "b577c68d",
      "metadata": {
        "id": "b577c68d"
      },
      "source": [
        "**10- Write a Python program to remove a newline in Python"
      ]
    },
    {
      "cell_type": "code",
      "execution_count": null,
      "id": "e0c6525a",
      "metadata": {
        "id": "e0c6525a",
        "colab": {
          "base_uri": "https://localhost:8080/"
        },
        "outputId": "382d432a-efbd-4146-d789-071292f91336"
      },
      "outputs": [
        {
          "output_type": "stream",
          "name": "stdout",
          "text": [
            "enter the string :ahmed shaker    mohamed\n",
            "ahmed shaker    mohamed\n"
          ]
        }
      ],
      "source": [
        "x=input(\"enter the string :\")\n",
        "print(x.replace(\"\\n\",\" \"))"
      ]
    },
    {
      "cell_type": "markdown",
      "id": "80db5ae0",
      "metadata": {
        "id": "80db5ae0"
      },
      "source": [
        "**11-Write a Python program to check whether a string starts with specified characters"
      ]
    },
    {
      "cell_type": "code",
      "execution_count": null,
      "id": "0cc4e03e",
      "metadata": {
        "id": "0cc4e03e",
        "colab": {
          "base_uri": "https://localhost:8080/"
        },
        "outputId": "745728fb-071f-46b4-8eb1-793b543829d8"
      },
      "outputs": [
        {
          "output_type": "stream",
          "name": "stdout",
          "text": [
            "enter the string :ahmed\n",
            "no\n"
          ]
        }
      ],
      "source": [
        "x=input(\"enter the string :\")\n",
        "if x.startswith(\"h\"):\n",
        "    print(\"yes\")\n",
        "else:\n",
        "    print(\"no\")"
      ]
    },
    {
      "cell_type": "markdown",
      "id": "593a68db",
      "metadata": {
        "id": "593a68db"
      },
      "source": [
        "**12- Write a Python program to add prefix text to all of the lines in a string"
      ]
    },
    {
      "cell_type": "code",
      "execution_count": null,
      "id": "d2e46ada",
      "metadata": {
        "id": "d2e46ada",
        "colab": {
          "base_uri": "https://localhost:8080/"
        },
        "outputId": "0c9747bb-04af-4ff0-eb87-cc051d074cd2"
      },
      "outputs": [
        {
          "output_type": "stream",
          "name": "stdout",
          "text": [
            "enter the string :ahmed shaker\n",
            "hello ahmed shaker\n"
          ]
        }
      ],
      "source": [
        "string=input(\"enter the string :\")\n",
        "lines=string.splitlines()\n",
        "for i in lines:\n",
        "    print(\"hello\",i)"
      ]
    },
    {
      "cell_type": "markdown",
      "id": "86fa1543",
      "metadata": {
        "id": "86fa1543"
      },
      "source": [
        "**13-Write a Python program to print the following numbers up to 2 decimal places"
      ]
    },
    {
      "cell_type": "code",
      "execution_count": null,
      "id": "cd4a9d89",
      "metadata": {
        "id": "cd4a9d89",
        "colab": {
          "base_uri": "https://localhost:8080/"
        },
        "outputId": "38b4b251-8d0c-46fb-ad13-0a9cb9aa9ab1"
      },
      "outputs": [
        {
          "output_type": "stream",
          "name": "stdout",
          "text": [
            "enter the number :10.5615161\n",
            "10.56\n"
          ]
        }
      ],
      "source": [
        "x=input(\"enter the number :\")\n",
        "print(round(float(x),2))"
      ]
    },
    {
      "cell_type": "markdown",
      "id": "452c0ab0",
      "metadata": {
        "id": "452c0ab0"
      },
      "source": [
        "**14-Write a Python program to print the following numbers up to 2 decimal places with a sign"
      ]
    },
    {
      "cell_type": "code",
      "execution_count": null,
      "id": "73e82479",
      "metadata": {
        "id": "73e82479",
        "colab": {
          "base_uri": "https://localhost:8080/"
        },
        "outputId": "1f5337ce-e26c-4c12-c80f-0806a2eff18f"
      },
      "outputs": [
        {
          "output_type": "stream",
          "name": "stdout",
          "text": [
            "enter the number :-202.58\n",
            "formatted -202.58\n"
          ]
        }
      ],
      "source": [
        "x=float(input(\"enter the number :\"))\n",
        "print(\"formatted\",f\"{x:+.2f}\")"
      ]
    },
    {
      "cell_type": "markdown",
      "id": "32b1811a",
      "metadata": {
        "id": "32b1811a"
      },
      "source": [
        "**15-Write a Python program to display a number with a comma separator"
      ]
    },
    {
      "cell_type": "code",
      "execution_count": null,
      "id": "f30fc0b6",
      "metadata": {
        "id": "f30fc0b6",
        "colab": {
          "base_uri": "https://localhost:8080/"
        },
        "outputId": "ba55e141-fc61-4d55-f6f9-75a321cd0d21"
      },
      "outputs": [
        {
          "output_type": "stream",
          "name": "stdout",
          "text": [
            "enter the number1000000\n",
            "number +1,000,000.0\n"
          ]
        }
      ],
      "source": [
        "x=float(input(\"enter the number\"))\n",
        "print(\"number\",f\"{x:+,}\")"
      ]
    },
    {
      "cell_type": "markdown",
      "id": "0477f487",
      "metadata": {
        "id": "0477f487"
      },
      "source": [
        "**16-Write a Python program to reverse a string using 2 ways"
      ]
    },
    {
      "cell_type": "code",
      "execution_count": null,
      "id": "aa8beec8",
      "metadata": {
        "id": "aa8beec8",
        "colab": {
          "base_uri": "https://localhost:8080/"
        },
        "outputId": "a3124167-a51c-49b3-fae7-711dfa4bbe3e"
      },
      "outputs": [
        {
          "output_type": "stream",
          "name": "stdout",
          "text": [
            "Enter a string: ahmed shaker\n",
            "Reversed string: rekahs demha\n"
          ]
        }
      ],
      "source": [
        "def reverse(string):\n",
        "   return string[::-1]\n",
        "\n",
        "input_string = input(\"Enter a string: \")\n",
        "reversed_string = reverse(input_string)\n",
        "print(\"Reversed string:\", reversed_string)"
      ]
    },
    {
      "cell_type": "code",
      "source": [
        "string=input(\"enter your string\")\n",
        "reversed_string = reverse(string)\n",
        "print(\"Reversed string:\", reversed_string)"
      ],
      "metadata": {
        "colab": {
          "base_uri": "https://localhost:8080/"
        },
        "id": "vil1f8gNw8vJ",
        "outputId": "37fdd795-f5fe-4cf7-9001-997809020176"
      },
      "id": "vil1f8gNw8vJ",
      "execution_count": null,
      "outputs": [
        {
          "output_type": "stream",
          "name": "stdout",
          "text": [
            "enter your stringahmed shaker\n",
            "Reversed string: rekahs demha\n"
          ]
        }
      ]
    },
    {
      "cell_type": "markdown",
      "id": "5afc3166",
      "metadata": {
        "id": "5afc3166"
      },
      "source": [
        " **17-Write a Python program to count repeated characters in a string (hint:use dictionary)"
      ]
    },
    {
      "cell_type": "code",
      "execution_count": null,
      "id": "515a469c",
      "metadata": {
        "id": "515a469c",
        "colab": {
          "base_uri": "https://localhost:8080/"
        },
        "outputId": "59acd5a0-cb77-4bec-beca-7903e687758b"
      },
      "outputs": [
        {
          "output_type": "stream",
          "name": "stdout",
          "text": [
            "no\n",
            "no\n",
            "yes\n"
          ]
        }
      ],
      "source": [
        "dic={'ahmed':14,'key':16,'hassen':4}\n",
        "count=0\n",
        "for i in dic:\n",
        "  if i.startswith"
      ]
    },
    {
      "cell_type": "markdown",
      "id": "ae14e4e5",
      "metadata": {
        "id": "ae14e4e5"
      },
      "source": [
        "**18-Write a Python program to find the first non-repeating character in a given string"
      ]
    },
    {
      "cell_type": "code",
      "execution_count": null,
      "id": "d73778e5",
      "metadata": {
        "id": "d73778e5",
        "colab": {
          "base_uri": "https://localhost:8080/"
        },
        "outputId": "13b29294-f90a-454f-e60c-be9ee4a74403"
      },
      "outputs": [
        {
          "output_type": "stream",
          "name": "stdout",
          "text": [
            "Enter a string: ahmed\n",
            "Characters and their counts:\n",
            "Key: 'a', Value: 1\n",
            "Key: 'h', Value: 1\n",
            "Key: 'm', Value: 1\n",
            "Key: 'e', Value: 1\n",
            "Key: 'd', Value: 1\n"
          ]
        }
      ],
      "source": [
        "\n",
        "text = input(\"Enter a string: \")\n",
        "char_count = {}\n",
        "for char in text:\n",
        "    if char in char_count:\n",
        "        char_count[char] += 1\n",
        "    else:\n",
        "        char_count[char] = 1\n",
        "print(\"Characters and their counts:\")\n",
        "for key, value in char_count.items():\n",
        "    print(f\"Key: '{key}', Value: {value}\")"
      ]
    },
    {
      "cell_type": "markdown",
      "id": "3adf5669",
      "metadata": {
        "id": "3adf5669"
      },
      "source": [
        "**19-Write a Python program to remove spaces from a given string"
      ]
    },
    {
      "cell_type": "code",
      "execution_count": null,
      "id": "b4f22602",
      "metadata": {
        "id": "b4f22602",
        "colab": {
          "base_uri": "https://localhost:8080/"
        },
        "outputId": "942d3c27-db88-4293-a5c0-a82c8c5c4396"
      },
      "outputs": [
        {
          "output_type": "stream",
          "name": "stdout",
          "text": [
            "enter the texthass e n\n",
            "hassen\n"
          ]
        }
      ],
      "source": [
        "text = str(input(\"enter the text\"))\n",
        "result = text.replace(\" \", \"\")\n",
        "print(result)"
      ]
    },
    {
      "cell_type": "markdown",
      "id": "734de60c",
      "metadata": {
        "id": "734de60c"
      },
      "source": [
        "**20-Write a Python program to count the number of non-empty substrings of a given string"
      ]
    },
    {
      "cell_type": "code",
      "execution_count": null,
      "id": "ef3f2274",
      "metadata": {
        "id": "ef3f2274",
        "colab": {
          "base_uri": "https://localhost:8080/"
        },
        "outputId": "35e8217c-b3e2-4061-9e18-1bed2f457caf"
      },
      "outputs": [
        {
          "output_type": "stream",
          "name": "stdout",
          "text": [
            "enter string: ahmed shaker\n",
            "number of non-empty substrings 78\n"
          ]
        }
      ],
      "source": [
        "\n",
        "text = input(\"enter string: \")\n",
        "n = len(text)\n",
        "count = n * (n + 1) // 2\n",
        "\n",
        "print(\"number of non-empty substrings\", count)"
      ]
    },
    {
      "cell_type": "markdown",
      "id": "509998e2",
      "metadata": {
        "id": "509998e2"
      },
      "source": [
        "**21-write a Python program to swap first and last element of any list."
      ]
    },
    {
      "cell_type": "code",
      "execution_count": null,
      "id": "68692d7f",
      "metadata": {
        "id": "68692d7f",
        "colab": {
          "base_uri": "https://localhost:8080/"
        },
        "outputId": "32852fc8-3e96-4197-c80b-50a653ecf961"
      },
      "outputs": [
        {
          "output_type": "stream",
          "name": "stdout",
          "text": [
            "5\n",
            "2\n"
          ]
        }
      ],
      "source": [
        "number=[2,5,6,7]\n",
        "a,b,c,d=number\n",
        "a,b=b,a\n",
        "print(a)\n",
        "print(b)"
      ]
    },
    {
      "cell_type": "markdown",
      "id": "959e0837",
      "metadata": {
        "id": "959e0837"
      },
      "source": [
        "**22-Given a list in Python and provided the positions of the elements, write a program to swap the two elements in the list. (Input : List = [23, 65, 19, 90], pos1 = 1, pos2 = 3\n",
        "Output : [19, 65, 23, 90])"
      ]
    },
    {
      "cell_type": "code",
      "execution_count": null,
      "id": "225d8c6d",
      "metadata": {
        "id": "225d8c6d",
        "colab": {
          "base_uri": "https://localhost:8080/"
        },
        "outputId": "74fda48c-c8c7-49aa-fdb3-f3bcdd1c8486"
      },
      "outputs": [
        {
          "output_type": "stream",
          "name": "stdout",
          "text": [
            "enter num of element 5\n",
            "the word,1: 1\n",
            "the word,2: 2\n",
            "the word,3: 3\n",
            "the word,4: 4\n",
            "the word,5: 5\n",
            "list before swap6\n",
            "['3', '2', '1', '4', '5']\n"
          ]
        }
      ],
      "source": [
        "A=[]\n",
        "num=int(input(\"enter num of element \"))\n",
        "for i in range(num):\n",
        "  word=input(f\"the word,{i+1}: \")\n",
        "  A.append(word)\n",
        "input=input(\"list before swap\")\n",
        "A[0],A[2]=A[2],A[0]\n",
        "print(A)"
      ]
    },
    {
      "cell_type": "markdown",
      "id": "66fc6682",
      "metadata": {
        "id": "66fc6682"
      },
      "source": [
        "**23- search for the all ways to know the length of the list\n",
        "\n",
        "> Add blockquote\n",
        "\n"
      ]
    },
    {
      "cell_type": "code",
      "source": [
        "my_list = [1, 2, 3, 4, 5]\n",
        "length = len(my_list)\n",
        "print(length)\n"
      ],
      "metadata": {
        "colab": {
          "base_uri": "https://localhost:8080/"
        },
        "id": "pMm8Gupo6P0i",
        "outputId": "42b593dc-6e5a-4f11-cbf5-e402d3d7d04d"
      },
      "id": "pMm8Gupo6P0i",
      "execution_count": null,
      "outputs": [
        {
          "output_type": "stream",
          "name": "stdout",
          "text": [
            "5\n"
          ]
        }
      ]
    },
    {
      "cell_type": "code",
      "source": [
        "A=[1,2,3,4,5,6,7,8,9]\n",
        "l=0\n",
        "for i in A:\n",
        "    l+=1\n",
        "print(i)"
      ],
      "metadata": {
        "colab": {
          "base_uri": "https://localhost:8080/"
        },
        "id": "AVgMJmTz92NZ",
        "outputId": "bb1926e2-0120-45e1-e1af-a975f2a77c48"
      },
      "id": "AVgMJmTz92NZ",
      "execution_count": null,
      "outputs": [
        {
          "output_type": "stream",
          "name": "stdout",
          "text": [
            "9\n"
          ]
        }
      ]
    },
    {
      "cell_type": "markdown",
      "source": [
        "**24-write a Python code to find the Maximum number of list of numbers."
      ],
      "metadata": {
        "id": "t2s-nncQ9EvN"
      },
      "id": "t2s-nncQ9EvN"
    },
    {
      "cell_type": "code",
      "execution_count": null,
      "id": "15f342de",
      "metadata": {
        "id": "15f342de",
        "colab": {
          "base_uri": "https://localhost:8080/"
        },
        "outputId": "255f1eb4-820c-4b72-8fed-c668b72b8ef3"
      },
      "outputs": [
        {
          "output_type": "stream",
          "name": "stdout",
          "text": [
            "Enter number of words: 5\n",
            "Enter word 1: 10\n",
            "Enter word 2: 30\n",
            "Enter word 3: 50\n",
            "Enter word 4: 999\n",
            "Enter word 5: 1000\n",
            "Maximum value = 1000\n"
          ]
        }
      ],
      "source": [
        "\n",
        "A = []\n",
        "N = int(input(\"Enter number of words: \"))\n",
        "for i in range(N):\n",
        "    word = int(input(f\"Enter word {i + 1}: \"))\n",
        "    A.append(word)\n",
        "print(\"Maximum value =\", max(A))"
      ]
    },
    {
      "cell_type": "markdown",
      "source": [
        "**25-write a Python code to find the Minimum number of list of numbers."
      ],
      "metadata": {
        "id": "8yZzxbg49H3b"
      },
      "id": "8yZzxbg49H3b"
    },
    {
      "cell_type": "code",
      "execution_count": null,
      "id": "21f8cbd6",
      "metadata": {
        "id": "21f8cbd6",
        "colab": {
          "base_uri": "https://localhost:8080/"
        },
        "outputId": "4c87ec4c-aa14-462c-fdd6-9236d6ff55b0"
      },
      "outputs": [
        {
          "output_type": "stream",
          "name": "stdout",
          "text": [
            "Enter number of words: 3\n",
            "Enter word 1: 10\n",
            "Enter word 2: 2\n",
            "Enter word 3: 9\n",
            "minumum value = 2\n"
          ]
        }
      ],
      "source": [
        "A = []\n",
        "N = int(input(\"Enter number of words: \"))\n",
        "for i in range(N):\n",
        "    word = int(input(f\"Enter word {i + 1}: \"))\n",
        "    A.append(word)\n",
        "print(\"minumum value =\", min(A))"
      ]
    },
    {
      "cell_type": "markdown",
      "id": "96822d96",
      "metadata": {
        "id": "96822d96"
      },
      "source": [
        "**26-search for if an elem is existing in list"
      ]
    },
    {
      "cell_type": "code",
      "execution_count": null,
      "id": "51ca5c9a",
      "metadata": {
        "id": "51ca5c9a",
        "colab": {
          "base_uri": "https://localhost:8080/"
        },
        "outputId": "743ffcad-7471-409e-c6a9-50a3a86859d9"
      },
      "outputs": [
        {
          "output_type": "stream",
          "name": "stdout",
          "text": [
            "Enter number of words: 3\n",
            "Enter word 1: ahmed\n",
            "Enter word 2: ali\n",
            "Enter word 3: hassen\n",
            "enter your search wordmohamed\n",
            "not exist\n"
          ]
        }
      ],
      "source": [
        "A = []\n",
        "N =int( input(\"Enter number of words: \"))\n",
        "for i in range(N):\n",
        "    word =str(input(f\"Enter word {i + 1}: \"))\n",
        "    A.append(word)\n",
        "user_word=input(\"enter your search word\")\n",
        "if user_word in A:\n",
        "  print(\"exist\")\n",
        "else:\n",
        "  print(\"not exist\")"
      ]
    },
    {
      "cell_type": "markdown",
      "id": "d9557da7",
      "metadata": {
        "id": "d9557da7"
      },
      "source": [
        "**27- clear python list using different ways"
      ]
    },
    {
      "cell_type": "code",
      "execution_count": null,
      "id": "b69858a3",
      "metadata": {
        "id": "b69858a3",
        "colab": {
          "base_uri": "https://localhost:8080/"
        },
        "outputId": "63ce9129-4b57-484a-95c0-c1ee0546b468"
      },
      "outputs": [
        {
          "output_type": "stream",
          "name": "stdout",
          "text": [
            "Enter number of words: 6\n",
            "Enter word 1: 2\n",
            "Enter word 2: 3\n",
            "Enter word 3: 4\n",
            "Enter word 4: 5\n",
            "Enter word 5: 6\n",
            "Enter word 6: 9\n",
            "the original list: [2, 3, 4, 5, 6, 9]\n",
            "the original list: []\n"
          ]
        }
      ],
      "source": [
        "A = []\n",
        "N =int( input(\"Enter number of words: \"))\n",
        "for i in range(N):\n",
        "    word =int(input(f\"Enter word {i + 1}: \"))\n",
        "    A.append(word)\n",
        "print(f\"the original list: {A}\")\n",
        "A.clear()\n",
        "print(f\"the original list: {A}\")"
      ]
    },
    {
      "cell_type": "markdown",
      "id": "52160e88",
      "metadata": {
        "id": "52160e88"
      },
      "source": [
        "**28-remove duplicated elements from a list\n",
        "\n",
        "> Add blockquote\n",
        "\n"
      ]
    },
    {
      "cell_type": "code",
      "execution_count": null,
      "id": "5e362228",
      "metadata": {
        "id": "5e362228",
        "colab": {
          "base_uri": "https://localhost:8080/"
        },
        "outputId": "e8ab3fb7-5860-4c1f-cee4-99e3ba30d4fd"
      },
      "outputs": [
        {
          "output_type": "stream",
          "name": "stdout",
          "text": [
            "[1, 2, 3, 4, 5]\n"
          ]
        }
      ],
      "source": [
        "def remove_duplicates(input_list):\n",
        "    return list(set(input_list))\n",
        "\n",
        "my_list = [1, 2, 2, 3, 4, 4, 5]\n",
        "unique_list = remove_duplicates(my_list)\n",
        "print(unique_list)"
      ]
    },
    {
      "cell_type": "markdown",
      "id": "282337f7",
      "metadata": {
        "id": "282337f7"
      },
      "source": [
        "**29-Given list values and keys list, convert these values to key value pairs in form of list of dictionaries. (Input : test_list = [“Gfg”, 3, “is”, 8], key_list = [“name”, “id”]\n",
        "Output : [{‘name’: ‘Gfg’, ‘id’: 3}, {‘name’: ‘is’, ‘id’: 8}])"
      ]
    },
    {
      "cell_type": "code",
      "execution_count": null,
      "id": "4d4e2d28",
      "metadata": {
        "id": "4d4e2d28",
        "colab": {
          "base_uri": "https://localhost:8080/"
        },
        "outputId": "b1d687ad-2ce4-4fca-d5b2-0fbc1b5c5871"
      },
      "outputs": [
        {
          "output_type": "stream",
          "name": "stdout",
          "text": [
            "[{'name': 'Gfg', 'id': 3}, {'name': 'is', 'id': 8}]\n"
          ]
        }
      ],
      "source": [
        "def convert_to_dict(test_list, key_list):\n",
        "    return [{key_list[0]: test_list[i], key_list[1]: test_list[i + 1]} for i in range(0, len(test_list), 2)]\n",
        "\n",
        "test_list = [\"Gfg\", 3, \"is\", 8]\n",
        "key_list = [\"name\", \"id\"]\n",
        "result = convert_to_dict(test_list, key_list)\n",
        "print(result)"
      ]
    },
    {
      "cell_type": "markdown",
      "id": "c26b6e9f",
      "metadata": {
        "id": "c26b6e9f"
      },
      "source": [
        "**30-write a python program to count unique values inside a list using different ways"
      ]
    },
    {
      "cell_type": "code",
      "execution_count": 60,
      "id": "72132667",
      "metadata": {
        "id": "72132667",
        "colab": {
          "base_uri": "https://localhost:8080/"
        },
        "outputId": "ce36c2d5-ba79-4e69-b957-bbb89225cb3d"
      },
      "outputs": [
        {
          "output_type": "stream",
          "name": "stdout",
          "text": [
            "Unique values using set: {1, 2, 3, 4, 5}\n",
            "Count of unique values using set: 5\n"
          ]
        }
      ],
      "source": [
        "sample_list = [1, 2, 2, 3, 4, 4, 5, 5, 5]\n",
        "\n",
        "unique_values_set = set(sample_list)\n",
        "unique_count_set = len(unique_values_set)\n",
        "\n",
        "print(\"Unique values using set:\", unique_values_set)\n",
        "print(\"Count of unique values using set:\", unique_count_set)"
      ]
    },
    {
      "cell_type": "markdown",
      "id": "fed6677c",
      "metadata": {
        "id": "fed6677c"
      },
      "source": [
        ":**31-write a python program Extract all elements with Frequency greater than K (Input : test_list = [4, 6, 4, 3, 3, 4, 3, 4, 3, 8], K = 3\n",
        "Output : [4, 3] )"
      ]
    },
    {
      "cell_type": "code",
      "execution_count": 63,
      "id": "d81f3f9d",
      "metadata": {
        "id": "d81f3f9d",
        "colab": {
          "base_uri": "https://localhost:8080/"
        },
        "outputId": "87941b62-2549-458c-b126-4bf76865d16b"
      },
      "outputs": [
        {
          "output_type": "stream",
          "name": "stdout",
          "text": [
            "Elements with frequency greater than 3 : [4, 3]\n"
          ]
        }
      ],
      "source": [
        "from collections import Counter\n",
        "\n",
        "test_list = [4, 6, 4, 3, 3, 4, 3, 4, 3, 8]\n",
        "K = 3\n",
        "frequency = Counter(test_list)\n",
        "result = [item for item, count in frequency.items() if count > K]\n",
        "print(\"Elements with frequency greater than\", K, \":\", result)"
      ]
    },
    {
      "cell_type": "markdown",
      "id": "caca5224",
      "metadata": {
        "id": "caca5224"
      },
      "source": [
        "**32-write a python program to find the Strongest Neighbour (Input: 1 2 2 3 4 5\n",
        "Output: 2 2 3 4 5)"
      ]
    },
    {
      "cell_type": "code",
      "execution_count": 65,
      "id": "39fbd9b2",
      "metadata": {
        "id": "39fbd9b2",
        "colab": {
          "base_uri": "https://localhost:8080/"
        },
        "outputId": "16a0ade4-3da3-49c8-ef70-6f5cee914947"
      },
      "outputs": [
        {
          "output_type": "stream",
          "name": "stdout",
          "text": [
            "Strongest Neighbors: [2, 2, 3, 4, 5, 5]\n"
          ]
        }
      ],
      "source": [
        "\n",
        "listt = [1, 2, 2, 3, 4, 5]\n",
        "storneg_n = []\n",
        "for i in range(len(listt)):\n",
        "    if i == 0:\n",
        "        storneg_n.append(max(listt[i], listt[i + 1]))\n",
        "    elif i == len(listt) - 1:\n",
        "        storneg_n.append(max(listt[i - 1], listt[i]))\n",
        "    else:\n",
        "        storneg_n.append(max(listt[i - 1], listt[i], listt[i + 1]))\n",
        "print(\"Strongest Neighbors:\", storneg_n)"
      ]
    },
    {
      "cell_type": "markdown",
      "id": "a9fa8baf",
      "metadata": {
        "id": "a9fa8baf"
      },
      "source": [
        "**33-write a Python Program to print all Possible Combinations from the three Digits (Input: [1, 2, 3]\n",
        "Output:\n",
        "1 2 3 ##\n",
        "1 3 2 ##\n",
        "2 1 3 ##\n",
        "2 3 1 ##\n",
        "3 1 2 ##\n",
        "3 2 1)"
      ]
    },
    {
      "cell_type": "code",
      "execution_count": 66,
      "id": "8c520a76",
      "metadata": {
        "id": "8c520a76",
        "colab": {
          "base_uri": "https://localhost:8080/"
        },
        "outputId": "26c39ede-bda4-46c4-ed7a-99249176140a"
      },
      "outputs": [
        {
          "output_type": "stream",
          "name": "stdout",
          "text": [
            "1 2 3 ##\n",
            "1 3 2 ##\n",
            "2 1 3 ##\n",
            "2 3 1 ##\n",
            "3 1 2 ##\n",
            "3 2 1 ##\n"
          ]
        }
      ],
      "source": [
        "nums = [1, 2, 3]\n",
        "\n",
        "for i in nums:\n",
        "    for j in nums:\n",
        "        for k in nums:\n",
        "            if i != j and j != k and i != k:\n",
        "                          print(i, j, k, \"##\")"
      ]
    },
    {
      "cell_type": "markdown",
      "id": "5288bb89",
      "metadata": {
        "id": "5288bb89"
      },
      "source": [
        "**34-write a Python program to find all the Combinations in the list with the given condition (Input: test_list = [1,2,3]\n",
        "Output:\n",
        " [1], [1, 2], [1, 2, 3], [1, 3]\n",
        " [2], [2, 3], [3])"
      ]
    },
    {
      "cell_type": "code",
      "execution_count": 67,
      "id": "59b89646",
      "metadata": {
        "id": "59b89646",
        "colab": {
          "base_uri": "https://localhost:8080/"
        },
        "outputId": "12196a51-7dcc-40ed-8942-d62242412270"
      },
      "outputs": [
        {
          "output_type": "stream",
          "name": "stdout",
          "text": [
            "[1]\n",
            "[1, 2]\n",
            "[1, 2, 3]\n",
            "[2]\n",
            "[2, 3]\n",
            "[3]\n"
          ]
        }
      ],
      "source": [
        "test_list = [1, 2, 3]\n",
        "n = len(test_list)\n",
        "for i in range(n):\n",
        "    for j in range(i+1, n+1):\n",
        "                print(test_list[i:j])"
      ]
    },
    {
      "cell_type": "markdown",
      "id": "39973705",
      "metadata": {
        "id": "39973705"
      },
      "source": [
        "**35-write a Python program to get all unique combinations of two Lists (List_1 = [\"a\",\"b\"]\n",
        "List_2 = [1,2]\n",
        "Unique_combination = [[('a',1),('b',2)],[('a',2),('b',1)]] )"
      ]
    },
    {
      "cell_type": "code",
      "execution_count": 68,
      "id": "8c4ba22b",
      "metadata": {
        "id": "8c4ba22b",
        "colab": {
          "base_uri": "https://localhost:8080/"
        },
        "outputId": "f996f460-65e5-4729-d6cd-539352d9f107"
      },
      "outputs": [
        {
          "output_type": "stream",
          "name": "stdout",
          "text": [
            "[('a', 1), ('b', 2)]\n",
            "[('a', 2), ('b', 1)]\n",
            "[('b', 1), ('a', 2)]\n",
            "[('b', 2), ('a', 1)]\n"
          ]
        }
      ],
      "source": [
        "\n",
        "List_1 = [\"a\", \"b\"]\n",
        "List_2 = [1, 2]\n",
        "unique_combinations = []\n",
        "for i in List_1:\n",
        "    for j in List_2:\n",
        "        combination = [(i, j)]\n",
        "        for k in List_1:\n",
        "            if k != i:\n",
        "                for l in List_2:\n",
        "                    if l != j:\n",
        "                        combination.append((k, l))\n",
        "                unique_combinations.append(combination)\n",
        "\n",
        "for combo in unique_combinations:\n",
        "    print(combo)"
      ]
    },
    {
      "cell_type": "markdown",
      "id": "25199af5",
      "metadata": {
        "id": "25199af5"
      },
      "source": [
        "**36-Remove all the occurrences of an element from a list in Python (Input : 1 1 2 3 4 5 1 2 1\n",
        "\n",
        "**Output : 2 3 4 5 2)"
      ]
    },
    {
      "cell_type": "code",
      "execution_count": 71,
      "id": "6dc4c2ba",
      "metadata": {
        "id": "6dc4c2ba",
        "colab": {
          "base_uri": "https://localhost:8080/"
        },
        "outputId": "a3ec3e11-a664-4d85-f24f-8962f55e760e"
      },
      "outputs": [
        {
          "output_type": "stream",
          "name": "stdout",
          "text": [
            "Output: [2, 3, 4, 5, 2]\n"
          ]
        }
      ],
      "source": [
        "\n",
        "nums = [1, 1, 2, 3, 4, 5, 1, 2, 1]\n",
        "target = 1\n",
        "result = []\n",
        "for num in nums:\n",
        "    if num != target:\n",
        "        result.append(num)\n",
        "print(\"Output:\", result)"
      ]
    },
    {
      "cell_type": "markdown",
      "id": "bf1a3c93",
      "metadata": {
        "id": "bf1a3c93"
      },
      "source": [
        "**37-write a python program to Replace index elements with elements in Other List (The original list 1 is : [‘Gfg’, ‘is’, ‘best’] The original list 2 is : [0, 1, 2, 1, 0, 0, 0, 2, 1, 1, 2, 0] The lists after index elements replacements is : [‘Gfg’, ‘is’, ‘best’, ‘is’, ‘Gfg’, ‘Gfg’, ‘Gfg’, ‘best’, ‘is’, ‘is’, ‘best’, ‘Gfg’])"
      ]
    },
    {
      "cell_type": "code",
      "execution_count": 70,
      "id": "fdd66a71",
      "metadata": {
        "id": "fdd66a71",
        "colab": {
          "base_uri": "https://localhost:8080/"
        },
        "outputId": "f4e572b9-ec35-485b-c140-2f26c6c5b665"
      },
      "outputs": [
        {
          "output_type": "stream",
          "name": "stdout",
          "text": [
            "Output: [2, 3, 4, 5, 2]\n"
          ]
        }
      ],
      "source": [
        "input_list = [1, 1, 2, 3, 4, 5, 1, 2, 1]\n",
        "element_to_remove = 1\n",
        "output_list = [x for x in input_list if x != element_to_remove]\n",
        "print(\"Output:\", output_list)"
      ]
    },
    {
      "cell_type": "markdown",
      "id": "af0f56e8",
      "metadata": {
        "id": "af0f56e8"
      },
      "source": [
        "**38- write python program to Retain records with N occurrences of K(Input : test_list = [(4, 5, 5, 4), (5, 4, 3)], K = 5, N = 2\n",
        "Output : [(4, 5, 5, 4)]\n",
        "Input : test_list = [(4, 5, 5, 4), (5, 4, 3)], K = 5, N = 3\n",
        "Output : [] )"
      ]
    },
    {
      "cell_type": "code",
      "execution_count": 69,
      "id": "67b06671",
      "metadata": {
        "id": "67b06671",
        "colab": {
          "base_uri": "https://localhost:8080/"
        },
        "outputId": "e3022a47-553c-49a6-da1f-cc4e29ec4256"
      },
      "outputs": [
        {
          "output_type": "stream",
          "name": "stdout",
          "text": [
            "Output for test_list_1: [(4, 5, 5, 4)]\n",
            "Output for test_list_2: []\n"
          ]
        }
      ],
      "source": [
        "test_list_1 = [(4, 5, 5, 4), (5, 4, 3)]\n",
        "K1 = 5\n",
        "N1 = 2\n",
        "result_1 = []\n",
        "\n",
        "for record in test_list_1:\n",
        "    if record.count(K1) == N1:\n",
        "        result_1.append(record)\n",
        "\n",
        "print(\"Output for test_list_1:\", result_1)\n",
        "\n",
        "test_list_2 = [(4, 5, 5, 4), (5, 4, 3)]\n",
        "K2 = 5\n",
        "N2 = 3\n",
        "result_2 = []\n",
        "\n",
        "for record in test_list_2:\n",
        "    if record.count(K2) == N2:\n",
        "        result_2.append(record)\n",
        "print(\"Output for test_list_2:\", result_2)"
      ]
    },
    {
      "cell_type": "markdown",
      "id": "de76f183",
      "metadata": {
        "id": "de76f183"
      },
      "source": [
        "**39-write a Python Program to Sort the list according to the column using lambda\n",
        "array = [[1, 3, 3], [2, 1, 2], [3, 2, 1]]\n",
        "Output :\n",
        "Sorted array specific to column 0, [[1, 3, 3], [2, 1, 2], [3, 2, 1]]\n",
        "Sorted array specific to column 1, [[2, 1, 2], [3, 2, 1], [1, 3, 3]]\n",
        "Sorted array specific to column 2, [[3, 2, 1], [2, 1, 2], [1, 3, 3]]"
      ]
    },
    {
      "cell_type": "code",
      "source": [
        "array = [[1, 3, 3], [2, 1, 2], [3, 2, 1]]\n",
        "\n",
        "sorted_by_col_0 = sorted(array, key=lambda x: x[0])\n",
        "print(\"Sorted array specific to column 0:\", sorted_by_col_0)\n",
        "\n",
        "sorted_by_col_1 = sorted(array, key=lambda x: x[1])\n",
        "print(\"Sorted array specific to column 1:\", sorted_by_col_1)\n",
        "\n",
        "sorted_by_col_2 = sorted(array, key=lambda x: x[2])\n",
        "print(\"Sorted array specific to column 2:\", sorted_by_col_2)"
      ],
      "metadata": {
        "colab": {
          "base_uri": "https://localhost:8080/"
        },
        "id": "LWr4gX1ycH7H",
        "outputId": "4b424228-253b-4ea7-9b89-f802a82b452a"
      },
      "id": "LWr4gX1ycH7H",
      "execution_count": 64,
      "outputs": [
        {
          "output_type": "stream",
          "name": "stdout",
          "text": [
            "Sorted array specific to column 0: [[1, 3, 3], [2, 1, 2], [3, 2, 1]]\n",
            "Sorted array specific to column 1: [[2, 1, 2], [3, 2, 1], [1, 3, 3]]\n",
            "Sorted array specific to column 2: [[3, 2, 1], [2, 1, 2], [1, 3, 3]]\n"
          ]
        }
      ]
    },
    {
      "cell_type": "markdown",
      "source": [
        "**40- write a program to Sort Python Dictionaries by Key or Value\n",
        "Input:\n",
        "{'ravi': 10, 'rajnish': 9, 'sanjeev': 15, 'yash': 2, 'suraj': 32}\n",
        "\n",
        "Output:\n",
        "{'rajnish': 9, 'ravi': 10, 'sanjeev': 15, 'suraj': 32, 'yash': 2}"
      ],
      "metadata": {
        "id": "Um-5jqa-a3MH"
      },
      "id": "Um-5jqa-a3MH"
    },
    {
      "cell_type": "code",
      "execution_count": 62,
      "id": "a96db4a0",
      "metadata": {
        "id": "a96db4a0",
        "colab": {
          "base_uri": "https://localhost:8080/"
        },
        "outputId": "38443db8-5acd-4ec2-95c3-8d631539608f"
      },
      "outputs": [
        {
          "output_type": "stream",
          "name": "stdout",
          "text": [
            "Sorted by key: {'rajnish': 9, 'ravi': 10, 'sanjeev': 15, 'suraj': 32, 'yash': 2}\n",
            "Sorted by value: {'yash': 2, 'rajnish': 9, 'ravi': 10, 'sanjeev': 15, 'suraj': 32}\n"
          ]
        }
      ],
      "source": [
        "input_dict = {'ravi': 10, 'rajnish': 9, 'sanjeev': 15, 'yash': 2, 'suraj': 32}\n",
        "sorted_by_key = dict(sorted(input_dict.items()))\n",
        "print(\"Sorted by key:\", sorted_by_key)\n",
        "sorted_by_value = dict(sorted(input_dict.items(), key=lambda item: item[1]))\n",
        "print(\"Sorted by value:\", sorted_by_value)"
      ]
    },
    {
      "cell_type": "markdown",
      "id": "ec63c23a",
      "metadata": {
        "id": "ec63c23a"
      },
      "source": [
        "**41-write python program to Remove keys with Values Greater than K ( Including mixed values )\n",
        "nput : test_dict = {‘Gfg’ : 3, ‘is’ : 7, ‘best’ : 10, ‘for’ : 6, ‘geeks’ : ‘CS’},\n",
        "K = 7\n",
        "Output : {‘Gfg’ : 3, ‘for’ : 6, ‘geeks’ : ‘CS’}"
      ]
    },
    {
      "cell_type": "code",
      "execution_count": 61,
      "id": "e39c3a40",
      "metadata": {
        "id": "e39c3a40",
        "colab": {
          "base_uri": "https://localhost:8080/"
        },
        "outputId": "fc1f15e1-a630-409f-e2da-ce8a246a8862"
      },
      "outputs": [
        {
          "output_type": "stream",
          "name": "stdout",
          "text": [
            "Original dictionary: {'Gfg': 3, 'is': 7, 'best': 10, 'for': 6, 'geeks': 'CS'}\n",
            "Filtered dictionary: {'Gfg': 3, 'is': 7, 'for': 6, 'geeks': 'CS'}\n"
          ]
        }
      ],
      "source": [
        "\n",
        "test_dict = {'Gfg': 3, 'is': 7, 'best': 10, 'for': 6, 'geeks': 'CS'}\n",
        "K = 7\n",
        "filtered_dict = {}\n",
        "\n",
        "for key, value in test_dict.items():\n",
        "    if isinstance(value, (int, float)) and value <= K:\n",
        "        filtered_dict[key] = value\n",
        "    elif isinstance(value, str):\n",
        "        filtered_dict[key] = value\n",
        "\n",
        "print(\"Original dictionary:\", test_dict)\n",
        "print(\"Filtered dictionary:\", filtered_dict)"
      ]
    },
    {
      "cell_type": "markdown",
      "id": "f143f0fe",
      "metadata": {
        "id": "f143f0fe"
      },
      "source": [
        "**42-Write a Python program to concatenate the following dictionaries to create a new one\n",
        "\n",
        "Sample Dictionary :\n",
        "dic1={1:10, 2:20}\n",
        "dic2={3:30, 4:40}\n",
        "dic3={5:50,6:60}\n",
        "Expected Result : {1: 10, 2: 20, 3: 30, 4: 40, 5: 50, 6: 60}"
      ]
    },
    {
      "cell_type": "code",
      "execution_count": 59,
      "id": "74ffdfea",
      "metadata": {
        "id": "74ffdfea",
        "colab": {
          "base_uri": "https://localhost:8080/"
        },
        "outputId": "7817d1f3-b35f-4ad6-9edf-855f08896d97"
      },
      "outputs": [
        {
          "output_type": "stream",
          "name": "stdout",
          "text": [
            "{1: 10, 2: 20, 3: 30, 4: 40, 5: 50, 6: 60}\n"
          ]
        }
      ],
      "source": [
        "dic1 = {1: 10, 2: 20}\n",
        "dic2 = {3: 30, 4: 40}\n",
        "dic3 = {5: 50, 6: 60}\n",
        "\n",
        "new_dict = {}\n",
        "new_dict.update(dic1)\n",
        "new_dict.update(dic2)\n",
        "new_dict.update(dic3)\n",
        "\n",
        "new_dict = {**dic1, **dic2, **dic3}\n",
        "\n",
        "print(new_dict)"
      ]
    },
    {
      "cell_type": "markdown",
      "id": "fb04c93c",
      "metadata": {
        "id": "fb04c93c"
      },
      "source": [
        "**43-Write a Python program to iterate over dictionaries using for loops"
      ]
    },
    {
      "cell_type": "code",
      "execution_count": 55,
      "id": "6aebc470",
      "metadata": {
        "id": "6aebc470",
        "colab": {
          "base_uri": "https://localhost:8080/"
        },
        "outputId": "a07cb777-fde1-4f37-d69e-dd1081108842"
      },
      "outputs": [
        {
          "output_type": "stream",
          "name": "stdout",
          "text": [
            "{'c1': '10', 'c2': 'Green', 'c3': '30'}\n",
            "{'c1': '10', 'c2': 'Green', 'c3': '30'}\n",
            "{'c1': '10', 'c2': 'Green', 'c3': '30'}\n"
          ]
        }
      ],
      "source": [
        "dicc={'c1': '10', 'c2': 'Green', 'c3': \"30\"}\n",
        "for i in dicc:\n",
        "  print(dicc)"
      ]
    },
    {
      "cell_type": "markdown",
      "id": "5f491a9d",
      "metadata": {
        "id": "5f491a9d"
      },
      "source": [
        "**44- Write a Python script to merge two Python dictionaries"
      ]
    },
    {
      "cell_type": "code",
      "execution_count": 58,
      "id": "b8a14028",
      "metadata": {
        "id": "b8a14028",
        "colab": {
          "base_uri": "https://localhost:8080/"
        },
        "outputId": "86cb822f-bf03-4956-cd61-ed98ab8bae5c"
      },
      "outputs": [
        {
          "output_type": "stream",
          "name": "stdout",
          "text": [
            "Merged dictionary: {'a': 1, 'b': 2, 'c': 3, 'd': 4}\n"
          ]
        }
      ],
      "source": [
        "dict1 = {'a': 1, 'b': 2}\n",
        "dict2 = {'c': 3, 'd': 4}\n",
        "merged_dict = {**dict1, **dict2}\n",
        "print(\"Merged dictionary:\", merged_dict)"
      ]
    },
    {
      "cell_type": "markdown",
      "id": "216fc72d",
      "metadata": {
        "id": "216fc72d"
      },
      "source": [
        "**45-Write a Python program to get the maximum and minimum values of a dictionary values"
      ]
    },
    {
      "cell_type": "code",
      "execution_count": 54,
      "id": "d6883f5f",
      "metadata": {
        "id": "d6883f5f",
        "colab": {
          "base_uri": "https://localhost:8080/"
        },
        "outputId": "6edfef4c-679b-42a0-93a5-32e6e208253f"
      },
      "outputs": [
        {
          "output_type": "stream",
          "name": "stdout",
          "text": [
            "c3\n"
          ]
        }
      ],
      "source": [
        "dicc={'c1': '10', 'c2': 'Green', 'c3': \"30\"}\n",
        "print(max(dicc))\n"
      ]
    },
    {
      "cell_type": "markdown",
      "id": "b6a53011",
      "metadata": {
        "id": "b6a53011"
      },
      "source": [
        "**46- Write a Python program to drop empty items from a given dictionary.\n",
        "Original Dictionary:\n",
        "{'c1': 'Red', 'c2': 'Green', 'c3': None}\n",
        "New Dictionary after dropping empty items:\n",
        "{'c1': 'Red', 'c2': 'Green'}"
      ]
    },
    {
      "cell_type": "code",
      "execution_count": 48,
      "id": "b5c6fecf",
      "metadata": {
        "id": "b5c6fecf",
        "colab": {
          "base_uri": "https://localhost:8080/"
        },
        "outputId": "21697214-394c-46f0-811f-24a473e5a117"
      },
      "outputs": [
        {
          "output_type": "stream",
          "name": "stdout",
          "text": [
            "{'c1': 'Red', 'c2': 'Green'}\n"
          ]
        }
      ],
      "source": [
        "dicc={'c1': 'Red', 'c2': 'Green', 'c3': None}\n",
        "dicc.pop(\"c3\")\n",
        "print(dicc)"
      ]
    },
    {
      "cell_type": "markdown",
      "id": "46d718c7",
      "metadata": {
        "id": "46d718c7"
      },
      "source": [
        "**47-Write a Python program to create a tuple of numbers and print one item"
      ]
    },
    {
      "cell_type": "code",
      "execution_count": 46,
      "id": "13216ff5",
      "metadata": {
        "id": "13216ff5",
        "colab": {
          "base_uri": "https://localhost:8080/"
        },
        "outputId": "eeac2669-e947-430a-8a91-0325562545e2"
      },
      "outputs": [
        {
          "output_type": "stream",
          "name": "stdout",
          "text": [
            "enter the num of elemnts2\n",
            "enter the value :1\n",
            "enter the value :2\n",
            "('1', '2')\n"
          ]
        }
      ],
      "source": [
        "t = ()\n",
        "list_t = list(t)\n",
        "num=int(input(\"enter the num of elemnts\"))\n",
        "for i in range(num):\n",
        "  word = input(\"enter the value :\")\n",
        "  list_t.append(word)\n",
        "t = tuple(list_t)\n",
        "print(t)"
      ]
    },
    {
      "cell_type": "markdown",
      "id": "2be5b56b",
      "metadata": {
        "id": "2be5b56b"
      },
      "source": [
        "**48-Write a Python program to unpack a tuple into several variables"
      ]
    },
    {
      "cell_type": "code",
      "execution_count": 45,
      "id": "595f44be",
      "metadata": {
        "id": "595f44be",
        "colab": {
          "base_uri": "https://localhost:8080/"
        },
        "outputId": "8c9f779a-ac05-497b-eaa7-6db9b6eec07d"
      },
      "outputs": [
        {
          "output_type": "stream",
          "name": "stdout",
          "text": [
            "10 20 30\n"
          ]
        }
      ],
      "source": [
        "t=(10,20,30,)\n",
        "a,b,c=t\n",
        "print(a,b,c)"
      ]
    },
    {
      "cell_type": "markdown",
      "id": "392388a7",
      "metadata": {
        "id": "392388a7"
      },
      "source": [
        "**49-Write a Python program to add an item to a tuple"
      ]
    },
    {
      "cell_type": "code",
      "execution_count": 44,
      "id": "54cc092e",
      "metadata": {
        "id": "54cc092e",
        "colab": {
          "base_uri": "https://localhost:8080/"
        },
        "outputId": "5553d129-9682-4070-8589-2ed1f3a20a41"
      },
      "outputs": [
        {
          "output_type": "stream",
          "name": "stdout",
          "text": [
            "enter the num of elemnts3\n",
            "enter the value :10\n",
            "enter the value :20\n",
            "enter the value :30\n",
            "('10', '20', '30')\n"
          ]
        }
      ],
      "source": [
        "t = ()\n",
        "list_t = list(t)\n",
        "num=int(input(\"enter the num of elemnts\"))\n",
        "for i in range(num):\n",
        "  word = input(\"enter the value :\")\n",
        "  list_t.append(word)\n",
        "t = tuple(list_t)\n",
        "print(t)"
      ]
    },
    {
      "cell_type": "markdown",
      "id": "3e8fd124",
      "metadata": {
        "id": "3e8fd124"
      },
      "source": [
        "**50-Write a Python program to convert a tuple to a string"
      ]
    },
    {
      "cell_type": "code",
      "execution_count": 35,
      "id": "92a71ddc",
      "metadata": {
        "id": "92a71ddc",
        "colab": {
          "base_uri": "https://localhost:8080/"
        },
        "outputId": "c0089d79-fca0-4eec-b025-c51ab0cf7a33"
      },
      "outputs": [
        {
          "output_type": "stream",
          "name": "stdout",
          "text": [
            "(1, 6, 9, 87, 7, 'ahmed')\n",
            "<class 'str'>\n"
          ]
        }
      ],
      "source": [
        "t=(1,6,9,87,7,\"ahmed\")\n",
        "s=str(t)\n",
        "print(s)\n",
        "print(type(s))"
      ]
    },
    {
      "cell_type": "markdown",
      "id": "f4f64ef4",
      "metadata": {
        "id": "f4f64ef4"
      },
      "source": [
        "**51-Write a Python program to convert a list to a tuple"
      ]
    },
    {
      "cell_type": "code",
      "execution_count": 33,
      "id": "210d56d3",
      "metadata": {
        "id": "210d56d3",
        "colab": {
          "base_uri": "https://localhost:8080/"
        },
        "outputId": "ca7878a3-049b-4660-8503-447d766c1496"
      },
      "outputs": [
        {
          "output_type": "stream",
          "name": "stdout",
          "text": [
            "the tuple is (1, 6, 5, 8, 9, 7)\n"
          ]
        }
      ],
      "source": [
        "listt=[1,6,5,8,9,7]\n",
        "t=tuple(listt)\n",
        "print(f\"the tuple is {t}\")"
      ]
    },
    {
      "cell_type": "markdown",
      "id": "b1e00ef7",
      "metadata": {
        "id": "b1e00ef7"
      },
      "source": [
        "**52-Write a Python program to reverse a tuple"
      ]
    },
    {
      "cell_type": "code",
      "execution_count": 30,
      "id": "f45bfdc7",
      "metadata": {
        "id": "f45bfdc7",
        "colab": {
          "base_uri": "https://localhost:8080/"
        },
        "outputId": "85e6bfe0-0eb8-48d2-f406-f535125dad72"
      },
      "outputs": [
        {
          "output_type": "stream",
          "name": "stdout",
          "text": [
            "the reversed tuple is : (4, 6, 5, 3, 1)\n"
          ]
        }
      ],
      "source": [
        "t=(1,3,5,6,4,)\n",
        "reverse_tuple=t[::-1]\n",
        "print(f\"the reversed tuple is : {reverse_tuple}\")"
      ]
    },
    {
      "cell_type": "markdown",
      "id": "3cd347d1",
      "metadata": {
        "id": "3cd347d1"
      },
      "source": [
        "**53-Write a Python program to replace the last value of tuples in a list.\n",
        "Sample list: [(10, 20, 40), (40, 50, 60), (70, 80, 90)]\n",
        "Expected Output: [(10, 20, 100), (40, 50, 100), (70, 80, 100)]"
      ]
    },
    {
      "cell_type": "code",
      "execution_count": null,
      "id": "3c4a2a4c",
      "metadata": {
        "id": "3c4a2a4c",
        "colab": {
          "base_uri": "https://localhost:8080/"
        },
        "outputId": "bd607adf-8e0d-4fd1-f925-dfc3a07dc1d0"
      },
      "outputs": [
        {
          "output_type": "stream",
          "name": "stdout",
          "text": [
            "Original list: [(10, 20, 40), (40, 50, 60), (70, 80, 90)]\n",
            "new list: [(70, 80, 100)]\n"
          ]
        }
      ],
      "source": [
        "listt = [(10, 20, 40), (40, 50, 60), (70, 80, 90)]\n",
        "new_list= []\n",
        "for t in listt:\n",
        "    new_tuple = t[:-1] + (100,)\n",
        "new_list.append(new_tuple)\n",
        "\n",
        "print(\"Original list:\", listt)\n",
        "print(\"new list:\", new_list)"
      ]
    },
    {
      "cell_type": "markdown",
      "id": "76bb7b39",
      "metadata": {
        "id": "76bb7b39"
      },
      "source": [
        "**54-Write a Python program to convert a given string list to a tuple\n",
        "Original string: python 3.0\n",
        "<class 'str'>\n",
        "Convert the said string to a tuple:\n",
        "('p', 'y', 't', 'h', 'o', 'n', '3', '.', '0')"
      ]
    },
    {
      "cell_type": "code",
      "execution_count": null,
      "id": "51951937",
      "metadata": {
        "id": "51951937",
        "colab": {
          "base_uri": "https://localhost:8080/"
        },
        "outputId": "045e4b8a-793a-478b-ccbd-3c0039c8f3c0"
      },
      "outputs": [
        {
          "output_type": "stream",
          "name": "stdout",
          "text": [
            "enter your stringahmed shaker 0\n",
            "the converted text is :,('a', 'h', 'm', 'e', 'd', ' ', 's', 'h', 'a', 'k', 'e', 'r', ' ', '0')\n"
          ]
        }
      ],
      "source": [
        "word_convert=str(input(\"enter your string\"))\n",
        "word=tuple(word_convert)\n",
        "print(f\"the converted text is :,{word}\")"
      ]
    },
    {
      "cell_type": "markdown",
      "id": "5a1d5d97",
      "metadata": {
        "id": "5a1d5d97"
      },
      "source": [
        "**55-Write a Python program to calculate the average value of the numbers in a given tuple of tuples"
      ]
    },
    {
      "cell_type": "code",
      "execution_count": null,
      "id": "834e7992",
      "metadata": {
        "id": "834e7992",
        "colab": {
          "base_uri": "https://localhost:8080/"
        },
        "outputId": "932e2f1f-25ee-4ac5-8830-4fff767e866c"
      },
      "outputs": [
        {
          "output_type": "stream",
          "name": "stdout",
          "text": [
            "the avg is : {4.5}\n"
          ]
        }
      ],
      "source": [
        "t=(4,3,5,6,)\n",
        "print(\"the avg is :\",{sum(t)/len(t)})"
      ]
    },
    {
      "cell_type": "markdown",
      "id": "51edab9c",
      "metadata": {
        "id": "51edab9c"
      },
      "source": [
        "**56-Write a Python program to add member(s) to a set."
      ]
    },
    {
      "cell_type": "code",
      "execution_count": null,
      "id": "2b65df79",
      "metadata": {
        "id": "2b65df79",
        "colab": {
          "base_uri": "https://localhost:8080/"
        },
        "outputId": "422555e9-349b-4e59-cd46-da3895abc970"
      },
      "outputs": [
        {
          "output_type": "stream",
          "name": "stdout",
          "text": [
            "Enter number of words: 4\n",
            "Enter word : 10\n",
            "Enter word : 20\n",
            "Enter word : 30\n",
            "Enter word : 40\n",
            "{40, 10, 20, 30}\n"
          ]
        }
      ],
      "source": [
        "A = set()\n",
        "N = int(input(\"Enter number of words: \"))\n",
        "for i in range(N):\n",
        "    word = int(input(f\"Enter word : \"))\n",
        "    A.add(word)\n",
        "print(A)"
      ]
    },
    {
      "cell_type": "code",
      "source": [
        "A = set({1, 3, 5, 10})\n",
        "values_to_add = []\n",
        "for i in A:\n",
        "    value = int(input(f\"Enter value to add : \"))\n",
        "    values_to_add.append(value)\n",
        "for val in values_to_add:\n",
        "    A.add(val)\n",
        "print(A)"
      ],
      "metadata": {
        "colab": {
          "base_uri": "https://localhost:8080/"
        },
        "id": "DmK01S2UP1zW",
        "outputId": "ce161a51-6d9d-4ad1-f475-cef976b65140"
      },
      "id": "DmK01S2UP1zW",
      "execution_count": null,
      "outputs": [
        {
          "output_type": "stream",
          "name": "stdout",
          "text": [
            "Enter value to add : 10\n",
            "Enter value to add : 20\n",
            "Enter value to add : 30\n",
            "Enter value to add : 40\n",
            "{1, 3, 5, 40, 10, 20, 30}\n"
          ]
        }
      ]
    },
    {
      "cell_type": "markdown",
      "id": "965590cc",
      "metadata": {
        "id": "965590cc"
      },
      "source": [
        "**57-Write a Python program to remove an item from a set if it is present in the set."
      ]
    },
    {
      "cell_type": "code",
      "execution_count": null,
      "id": "866bab28",
      "metadata": {
        "id": "866bab28",
        "colab": {
          "base_uri": "https://localhost:8080/"
        },
        "outputId": "742f751e-21bc-45a4-e817-5d35090dfb84"
      },
      "outputs": [
        {
          "output_type": "stream",
          "name": "stdout",
          "text": [
            "Enter number of words: 4\n",
            "Enter word : 10\n",
            "Enter word : 20\n",
            "Enter word : 30\n",
            "Enter word : 40\n",
            "enter your removed value from set 20\n",
            "{40, 10, 30}\n"
          ]
        }
      ],
      "source": [
        "A = set()\n",
        "N = int(input(\"Enter number of words: \"))\n",
        "for i in range(N):\n",
        "    word = int(input(f\"Enter word : \"))\n",
        "    A.add(word)\n",
        "rword=int(input(\"enter your removed value from set \"))\n",
        "A.remove(rword)\n",
        "print(A)"
      ]
    },
    {
      "cell_type": "markdown",
      "id": "2b7cfed1",
      "metadata": {
        "id": "2b7cfed1"
      },
      "source": [
        "**58-Write a Python program to create an intersection,union,difference and symmetric difference of sets"
      ]
    },
    {
      "cell_type": "code",
      "execution_count": null,
      "id": "7f94b7fe",
      "metadata": {
        "id": "7f94b7fe",
        "colab": {
          "base_uri": "https://localhost:8080/"
        },
        "outputId": "52f05501-09d2-4b07-af2a-bbc47bd4b2f9"
      },
      "outputs": [
        {
          "output_type": "stream",
          "name": "stdout",
          "text": [
            "the intersection : ,{5}\n",
            "the union : ,{1, 3, 4, 5, 6, 7, 9, 10}\n",
            "the diffrance : ,{9, 6, 7}\n",
            "the semeatric : ,{1, 3, 4, 6, 7, 9, 10}\n"
          ]
        }
      ],
      "source": [
        "a=set({1,3,4,5,10})\n",
        "b=set({6,9,7,5})\n",
        "z=b&a\n",
        "c=b|a\n",
        "y=b-a\n",
        "q=b^a\n",
        "print(f\"the intersection : ,{z}\")\n",
        "print(f\"the union : ,{c}\")\n",
        "print(f\"the diffrance : ,{y}\")\n",
        "print(f\"the semeatric : ,{q}\")\n"
      ]
    },
    {
      "cell_type": "markdown",
      "id": "b94931e2",
      "metadata": {
        "id": "b94931e2"
      },
      "source": [
        "**59-Write a Python program to find the maximum and minimum values in a set"
      ]
    },
    {
      "cell_type": "code",
      "execution_count": null,
      "id": "203f9600",
      "metadata": {
        "id": "203f9600",
        "colab": {
          "base_uri": "https://localhost:8080/"
        },
        "outputId": "2072c256-3196-4897-cddb-aa15fe7b71ba"
      },
      "outputs": [
        {
          "output_type": "stream",
          "name": "stdout",
          "text": [
            "Enter number of words: 5\n",
            "Enter word : 1\n",
            "Enter word : 2\n",
            "Enter word : 3\n",
            "Enter word : 4\n",
            "Enter word : 5\n",
            "minumum value = 1\n"
          ]
        }
      ],
      "source": [
        "A = set()\n",
        "N = int(input(\"Enter number of words: \"))\n",
        "for i in range(N):\n",
        "    word = int(input(f\"Enter word : \"))\n",
        "    A.add(word)\n",
        "print(\"minumum value =\", min(A))"
      ]
    },
    {
      "cell_type": "markdown",
      "id": "255fd554",
      "metadata": {
        "id": "255fd554"
      },
      "source": [
        "**60- Write a Python program that finds all pairs of elements in a list whose sum is equal to a given value."
      ]
    },
    {
      "cell_type": "code",
      "execution_count": null,
      "id": "c2d94e1f",
      "metadata": {
        "id": "c2d94e1f",
        "colab": {
          "base_uri": "https://localhost:8080/"
        },
        "outputId": "bc4753c7-ad60-4d10-93db-5593461a33cb"
      },
      "outputs": [
        {
          "output_type": "stream",
          "name": "stdout",
          "text": [
            "Enter the number of elements in the list: 6\n",
            "Enter the value for element 1: 1\n",
            "Enter the value for element 2: 2\n",
            "Enter the value for element 3: 3\n",
            "Enter the value for element 4: 4\n",
            "Enter the value for element 5: 5\n",
            "Enter the value for element 6: 6\n",
            "Enter the target sum: 6\n",
            "Pairs with the sum of 6 are: [(1, 5), (2, 4)]\n"
          ]
        }
      ],
      "source": [
        "\n",
        "a = []\n",
        "n = int(input(\"Enter the number of elements in the list: \"))\n",
        "for i in range(n):\n",
        "    word = int(input(f\"Enter the value for element {i + 1}: \"))\n",
        "    a.append(word)\n",
        "target_sum = int(input(\"Enter the target sum: \"))\n",
        "pairs = []\n",
        "\n",
        "for i in range(len(a)):\n",
        "    for j in range(i + 1, len(a)):\n",
        "        if a[i] + a[j] == target_sum:\n",
        "            pairs.append((a[i], a[j]))\n",
        "if pairs:\n",
        "    print(\"Pairs with the sum of\", target_sum, \"are:\", pairs)\n",
        "else:\n",
        "    print(\"No pairs found with the sum of\", target_sum)"
      ]
    },
    {
      "cell_type": "code",
      "source": [
        "\n"
      ],
      "metadata": {
        "id": "LTyD0z70PSUT"
      },
      "id": "LTyD0z70PSUT",
      "execution_count": null,
      "outputs": []
    }
  ],
  "metadata": {
    "kernelspec": {
      "display_name": "Python 3 (ipykernel)",
      "language": "python",
      "name": "python3"
    },
    "language_info": {
      "codemirror_mode": {
        "name": "ipython",
        "version": 3
      },
      "file_extension": ".py",
      "mimetype": "text/x-python",
      "name": "python",
      "nbconvert_exporter": "python",
      "pygments_lexer": "ipython3",
      "version": "3.9.7"
    },
    "colab": {
      "provenance": []
    }
  },
  "nbformat": 4,
  "nbformat_minor": 5
}