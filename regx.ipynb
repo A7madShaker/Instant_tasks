{
 "cells": [
  {
   "cell_type": "code",
   "execution_count": 5,
   "id": "4048b34d",
   "metadata": {},
   "outputs": [
    {
     "name": "stdout",
     "output_type": "stream",
     "text": [
      "Names: ['Ahmed shaker', 'Mostafa Adel', 'Laila', 'Omar Fathy']\n",
      "Phones: []\n",
      "Emails: ['Ahmed.shaker@email.com', 'mostafa.adel@email.com', 'laila@email.com', 'omar.fathy@email.com']\n"
     ]
    }
   ],
   "source": [
    "import re\n",
    "\n",
    "names = []\n",
    "emails = []\n",
    "phones = []\n",
    "\n",
    "with open(\"C:\\\\Users\\\\Ahmed Shaker\\\\Documents\\\\ai\\\\contacts.txt\", \"r\", encoding=\"utf-8\") as file:\n",
    "    lines = file.readlines()\n",
    "\n",
    "phone_pattern = r\"01[0-2,5]\\d{8}\"\n",
    "email_pattern = r\"[\\w\\.-]+@[\\w\\.-]+\\.[a-zA-Z]{2,3}\"\n",
    "name_pattern = r\"([A-Za-z]+(?:\\s[A-Za-z]+)*)\"\n",
    "\n",
    "for line in lines:\n",
    "    line = line.strip()\n",
    "    line = re.sub(r\"[,:\\-]\", \" \", line)\n",
    "\n",
    "    email_match = re.search(email_pattern, line)\n",
    "    if email_match:\n",
    "        emails.append(email_match.group())\n",
    "        line = line.replace(email_match.group(), \"\")  \n",
    "\n",
    "    phone_match = re.search(phone_pattern, line)\n",
    "    if phone_match:\n",
    "        phones.append(phone_match.group())\n",
    "        line = line.replace(phone_match.group(), \"\") \n",
    "\n",
    "    name_match = re.search(name_pattern, line)\n",
    "    if name_match:\n",
    "        names.append(name_match.group())\n",
    "\n",
    "print(\"Names:\", names)\n",
    "print(\"Phones:\", phones)\n",
    "print(\"Emails:\", emails)"
   ]
  },
  {
   "cell_type": "code",
   "execution_count": null,
   "id": "4b26641a",
   "metadata": {},
   "outputs": [],
   "source": []
  }
 ],
 "metadata": {
  "kernelspec": {
   "display_name": "Python 3 (ipykernel)",
   "language": "python",
   "name": "python3"
  },
  "language_info": {
   "codemirror_mode": {
    "name": "ipython",
    "version": 3
   },
   "file_extension": ".py",
   "mimetype": "text/x-python",
   "name": "python",
   "nbconvert_exporter": "python",
   "pygments_lexer": "ipython3",
   "version": "3.9.7"
  }
 },
 "nbformat": 4,
 "nbformat_minor": 5
}
